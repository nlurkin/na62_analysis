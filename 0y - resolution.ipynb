{
 "cells": [
  {
   "cell_type": "markdown",
   "id": "e5d8033a-4721-4469-b6cf-c6f8d6c07bc4",
   "metadata": {},
   "source": [
    "# Detector resolution\n",
    "As you know, detectors are not perfect and do not provide an infinitely precise measurement. Instead they have resolutions that may be a constant value, or may depend on the measured value itself.\n",
    "In this notebook we will explore the energy resolution of the LKr detector, and the time and momentum resolution of the Spectrometer.\n",
    "\n",
    "The resolution is the difference that we may find between the measured value and a reference value (the \"real\" value). Unless working with simulation, we usually cannot know the exact real value. So we need to find either a reference value which was measured with a resolution that was much smaller than the resolution that we are trying to measure. This would give us an \"exact\" value for all practical purposes. Alternatively we can measure the resolution with respect to another measurement for which the resolution is already well known, or with respect to another measurement provided by the same detector (if this is practical). For these two last cases, the measured resolution will be the convolution of both measurements but the resolution of the tested detector can be obtained by deconvolution. "
   ]
  },
  {
   "cell_type": "code",
   "execution_count": null,
   "id": "e31b621d-f4d1-4daf-946d-d584eebc7c5e",
   "metadata": {},
   "outputs": [],
   "source": [
    "# As usual let's import all we need\n",
    "import uproot\n",
    "import pandas as pd\n",
    "import numpy as np\n",
    "import matplotlib.pyplot as plt\n",
    "import matplotlib as mpl\n",
    "from na62 import prepare, hlf, extract, constants, stats"
   ]
  },
  {
   "cell_type": "code",
   "execution_count": null,
   "id": "2f2ec178-c6cb-4c49-b233-fefdc78c95a0",
   "metadata": {},
   "outputs": [],
   "source": [
    "# Then we load the data\n",
    "data, _ = prepare.import_root_files([\"data/run12450.root\"])"
   ]
  },
  {
   "cell_type": "markdown",
   "id": "3103bb19-828f-4a4f-90d1-04a1931443f1",
   "metadata": {},
   "source": [
    "# LKr energy resolution\n",
    "To measure the LKr energy resolution we can use one of the principles that we have seen in the PID notebook. We know that in almost 100% of the cases, electrons will leave all their energy inside the LKr. As a consequence if we can isolate a pure sample of electrons and knowing their energy (momenta), we have a reference for the energy that is supposed to be measured in the LKr. This can easily be provided by the Ke3 decay."
   ]
  },
  {
   "cell_type": "code",
   "execution_count": null,
   "id": "5a8986ca-8672-4afe-8f1d-a7ca510d2a32",
   "metadata": {},
   "outputs": [],
   "source": [
    "# select ke3\n",
    "ke3 = data.loc[data[\"event_type\"]==constants.event_type_map[\"ke3\"]]"
   ]
  },
  {
   "cell_type": "code",
   "execution_count": null,
   "id": "f34c7a34-2a7a-4632-ae12-5e8427cc9c4d",
   "metadata": {},
   "outputs": [],
   "source": [
    "e = extract.track(ke3, 1)\n",
    "e_energy = np.sqrt(e[\"momentum_mag\"]**2 + constants.electron_mass**2)\n",
    "delta_e = e[\"lkr_energy\"] - e_energy"
   ]
  },
  {
   "cell_type": "code",
   "execution_count": null,
   "id": "c336fa2d-a67c-402c-b4b5-4bc88090e450",
   "metadata": {},
   "outputs": [],
   "source": [
    "cut = pd.cut(e_energy, np.arange(0,80000, 1000), labels=False)\n",
    "momentum = []\n",
    "values = []\n",
    "err = []\n",
    "plot = False\n",
    "for binID in cut.value_counts().sort_index().index:\n",
    "    delta_e_bin = delta_e.loc[cut==binID]\n",
    "    if(len(delta_e_bin)<=100): # Not enough stat in the bin\n",
    "        continue\n",
    "    if binID == 20:\n",
    "        plot = True\n",
    "    fitr = stats.fit_gaussian(delta_e_bin, bins=100, display_range=(-5000, 5000), plot=plot)\n",
    "    momentum.append(binID*1000 + 500)\n",
    "    values.append(fitr.params[\"sigma\"].value)\n",
    "    err.append(fitr.params[\"sigma\"].stderr)\n",
    "    if plot:\n",
    "        plt.title(\"Energy difference between LKr and Spectrometer\\nfor Ke3 electron in the bin 20 GeV < $E_e$ < 21  GeV\")\n",
    "        plt.xlabel(\"$\\Delta E$ [MeV]\")\n",
    "        display(fitr)\n",
    "    plot = False\n",
    "\n",
    "momentum = np.array(momentum)\n",
    "values = np.array(values)\n",
    "err = np.array(err)"
   ]
  },
  {
   "cell_type": "code",
   "execution_count": null,
   "id": "c6b77c67-806f-4ed4-a25b-cfe494420f82",
   "metadata": {},
   "outputs": [],
   "source": [
    "plt.errorbar(momentum, values/momentum, yerr=err/momentum, capsize=2)"
   ]
  },
  {
   "cell_type": "markdown",
   "id": "8c81c779-11f5-42aa-8853-3e12d5804b00",
   "metadata": {},
   "source": [
    "# Spectrometer momentum resolution"
   ]
  },
  {
   "cell_type": "code",
   "execution_count": null,
   "id": "854e4b9d-94a3-426f-a593-7951c35308ec",
   "metadata": {},
   "outputs": [],
   "source": [
    "k3pi = data.loc[data[\"event_type\"]==constants.event_type_map[\"k3pi\"]]"
   ]
  },
  {
   "cell_type": "code",
   "execution_count": null,
   "id": "6e119ce5-e70f-4f01-85ac-a1766c343b35",
   "metadata": {},
   "outputs": [],
   "source": [
    "t1 = hlf.set_mass(extract.track(k3pi, 1), constants.pion_charged_mass)\n",
    "t2 = hlf.set_mass(extract.track(k3pi, 2), constants.pion_charged_mass)\n",
    "t3 = hlf.set_mass(extract.track(k3pi, 3), constants.pion_charged_mass)\n",
    "beam = extract.get_beam(k3pi)\n",
    "expected_t1 = hlf.three_vectors_sum([beam, hlf.three_vector_invert(t2), hlf.three_vector_invert(t3)])\n",
    "cut = pd.cut(expected_t1[\"momentum_mag\"], np.arange(0,80000, 1000), labels=False)\n",
    "momentum = []\n",
    "values = []\n",
    "err = []\n",
    "plot = False\n",
    "for binID in cut.value_counts().sort_index().index:\n",
    "    delta_p = expected_t1.loc[cut==binID][\"momentum_mag\"] - t1.loc[cut==binID][\"momentum_mag\"]\n",
    "    if(len(delta_p)<=100):\n",
    "        continue\n",
    "    if binID == 20:\n",
    "        plot = True\n",
    "    fitr = stats.fit_gaussian(delta_p, bins=100, display_range=(-3000, 3000), plot=plot)\n",
    "    momentum.append(binID*1000 + 500)\n",
    "    values.append(fitr.params[\"sigma\"].value)\n",
    "    err.append(fitr.params[\"sigma\"].stderr)\n",
    "    if plot:\n",
    "        plt.title(\"Momentum difference between expected and measured momentum\\nfor a K3pi pion in the bin 20 GeV < $E_e$ < 21  GeV\")\n",
    "        plt.xlabel(\"$\\Delta p$ [MeV]\")\n",
    "        display(fitr)\n",
    "    plot = False\n",
    "\n",
    "momentum = np.array(momentum)\n",
    "values = np.array(values)\n",
    "err = np.array(err)"
   ]
  },
  {
   "cell_type": "code",
   "execution_count": null,
   "id": "770e8205-7ca8-475e-aa00-1183dfa2a04a",
   "metadata": {},
   "outputs": [],
   "source": [
    "plt.errorbar(momentum, values/momentum, yerr=err/momentum, capsize=2)"
   ]
  },
  {
   "cell_type": "code",
   "execution_count": null,
   "id": "b90e5c2f-5951-4344-9416-a26a909d4994",
   "metadata": {},
   "outputs": [],
   "source": []
  }
 ],
 "metadata": {
  "kernelspec": {
   "display_name": "Python 3 (ipykernel)",
   "language": "python",
   "name": "python3"
  },
  "language_info": {
   "codemirror_mode": {
    "name": "ipython",
    "version": 3
   },
   "file_extension": ".py",
   "mimetype": "text/x-python",
   "name": "python",
   "nbconvert_exporter": "python",
   "pygments_lexer": "ipython3",
   "version": "3.11.4"
  }
 },
 "nbformat": 4,
 "nbformat_minor": 5
}
