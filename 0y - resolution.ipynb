{
 "cells": [
  {
   "cell_type": "markdown",
   "id": "e5d8033a-4721-4469-b6cf-c6f8d6c07bc4",
   "metadata": {},
   "source": [
    "# Detector resolution\n",
    "As you know, detectors are not perfect and do not provide an infinitely precise measurement. Instead they have resolutions that may be a constant value, or may depend on the measured value itself.\n",
    "In this notebook we will explore the energy resolution of the LKr detector, and the time and momentum resolution of the Spectrometer.\n",
    "\n",
    "The resolution is the difference that we may find between the measured value and a reference value (the \"real\" value). Unless working with simulation, we usually cannot know the exact real value. So we need to find either a reference value which was measured with a resolution that was much smaller than the resolution that we are trying to measure. This would give us an \"exact\" value for all practical purposes. Alternatively we can measure the resolution with respect to another measurement for which the resolution is already well known, or with respect to another measurement provided by the same detector (if this is practical). For these two last cases, the measured resolution will be the convolution of both measurements but the resolution of the tested detector can be obtained by deconvolution. "
   ]
  },
  {
   "cell_type": "code",
   "execution_count": null,
   "id": "e31b621d-f4d1-4daf-946d-d584eebc7c5e",
   "metadata": {},
   "outputs": [],
   "source": [
    "# As usual let's import all we need\n",
    "import uproot\n",
    "import pandas as pd\n",
    "import numpy as np\n",
    "import matplotlib.pyplot as plt\n",
    "import matplotlib as mpl\n",
    "from na62 import prepare, hlf, extract, constants, stats"
   ]
  },
  {
   "cell_type": "code",
   "execution_count": null,
   "id": "2f2ec178-c6cb-4c49-b233-fefdc78c95a0",
   "metadata": {},
   "outputs": [],
   "source": [
    "# Then we load the data\n",
    "data, _ = prepare.import_root_files([\"data/run12450.root\"])"
   ]
  },
  {
   "cell_type": "markdown",
   "id": "3103bb19-828f-4a4f-90d1-04a1931443f1",
   "metadata": {},
   "source": [
    "# LKr energy resolution\n",
    "To measure the LKr energy resolution we can use one of the principles that we have seen in the PID notebook. We know that in almost 100% of the cases, electrons will leave all their energy inside the LKr. As a consequence if we can isolate a pure sample of electrons and knowing their energy (momenta), we have a reference for the energy that is supposed to be measured in the LKr. This can easily be provided by the Ke3 decay.\n",
    "\n",
    "Let's first isolate a sample of Ke3, similarly to what we did in the PID notebook. However to improve the efficiency of our selection and increase both the statistics and the purity, we are not going to reject events that are in the $m_\\text{miss}^2(\\mu)$ peak (i.e. assuming muon mass for the track) but instead reject events where the track is associated to a MUV3 signal."
   ]
  },
  {
   "cell_type": "code",
   "execution_count": null,
   "id": "fb04b68d-a2aa-44a2-b0de-20937b30b766",
   "metadata": {},
   "outputs": [],
   "source": [
    "# Define our momentum and missing mass squared peaks parameters, as in the PID notebook\n",
    "p_center = 75000\n",
    "p_sigma = 1100\n",
    "mm2_mean = 0\n",
    "mm2_sigma = 3000\n",
    "\n",
    "# --- Define the selection cuts we will need ---\n",
    "# Event topology\n",
    "single_track_w_clusters_cond = hlf.make_exists_cut([\"track1_exists\", \"cluster1_exists\", \"cluster2_exists\"], [\"track2_exists\", \"track3_exists\"])\n",
    "# Total momentum\n",
    "ptot_condition = hlf.n(hlf.make_total_momentum_cut((p_center-5*p_sigma), (p_center+5*p_sigma)))\n",
    "# Missing mass squared\n",
    "in_ke3_peak_cond = hlf.make_missing_mass_sqr_cut((mm2_mean-3*mm2_sigma), mm2_mean+3*mm2_sigma, {\"track1\": constants.electron_mass, \"cluster1\": constants.photon_mass, \"cluster2\": constants.photon_mass})\n",
    "# MUV3 signal\n",
    "muv3_notmu_cond = hlf.make_muv3_cut(False, \"track1\")"
   ]
  },
  {
   "cell_type": "code",
   "execution_count": null,
   "id": "971bbe13-ae4c-40a3-a17e-49f8f91ef4ca",
   "metadata": {},
   "outputs": [],
   "source": [
    "# Apply the cuts to the data\n",
    "ke3_events = hlf.select(data, [single_track_w_clusters_cond, ptot_condition, in_ke3_peak_cond, muv3_notmu_cond])"
   ]
  },
  {
   "cell_type": "code",
   "execution_count": null,
   "id": "54a9921a-b305-4050-87b5-b070d244be00",
   "metadata": {},
   "outputs": [],
   "source": [
    "# TODO: add here selection quality plots for confirmation with MC. Use techniques from 04\n",
    "# Find out which channel polutes"
   ]
  },
  {
   "cell_type": "markdown",
   "id": "f1e67af4-1b8b-4262-b948-80b4e1de40c3",
   "metadata": {},
   "source": [
    "Let's have a look at the E/p distribution:"
   ]
  },
  {
   "cell_type": "code",
   "execution_count": null,
   "id": "d07f72a1-0ee3-4a5f-a26c-b750746d3548",
   "metadata": {},
   "outputs": [],
   "source": [
    "ke3_events[\"track1_eop\"].hist(bins=100)\n",
    "plt.yscale(\"log\")\n",
    "plt.xlabel(\"E/p\")\n",
    "plt.title(\"E/p distribution for Ke3 candidates sample\")"
   ]
  },
  {
   "cell_type": "markdown",
   "id": "2df7a571-be2e-4616-b658-7429da394f47",
   "metadata": {},
   "source": [
    "We can see that we do have some polution from another channel. However the electron peak is very clear and enough for our purpose. We want to fit the resolution for the tracks that are in the peak around 1. We can simply reject events with $E/p<0.8$ as those are clearly not electrons having been entirely absorbed inside the LKr"
   ]
  },
  {
   "cell_type": "code",
   "execution_count": null,
   "id": "4a50427d-1ed2-44c2-a055-b8f1a9f5c917",
   "metadata": {},
   "outputs": [],
   "source": [
    "eop_condition = hlf.make_eop_cut(0.8, None, \"track1\")\n",
    "ke3_events = hlf.select(ke3_events, [eop_condition])"
   ]
  },
  {
   "cell_type": "markdown",
   "id": "47ded594-29bc-4a37-bf4c-07e5c8cb1a0a",
   "metadata": {},
   "source": [
    "Let's now extract the expected track energy using the measured momentum, and compute the difference with respect to the measured energy."
   ]
  },
  {
   "cell_type": "code",
   "execution_count": null,
   "id": "f34c7a34-2a7a-4632-ae12-5e8427cc9c4d",
   "metadata": {},
   "outputs": [],
   "source": [
    "e = extract.track(ke3_events, 1)\n",
    "e_energy = np.sqrt(e[\"momentum_mag\"]**2 + constants.electron_mass**2)\n",
    "delta_e = e[\"lkr_energy\"] - e_energy"
   ]
  },
  {
   "cell_type": "markdown",
   "id": "9a73ff0f-4070-4cd5-a4fd-45ed45b33215",
   "metadata": {},
   "source": [
    "We can now plot and fit this difference. We will try to fit with a Gaussian model, and also with a double Gaussian model"
   ]
  },
  {
   "cell_type": "code",
   "execution_count": null,
   "id": "b4f42375-5b63-4738-8a21-446d8552fa2c",
   "metadata": {},
   "outputs": [],
   "source": [
    "# Prepare a figure\n",
    "ax = plt.figure().gca()\n",
    "\n",
    "gauss_fit = stats.perform_fit(delta_e, bins=100, display_range=(-6000, 6000), ax=ax, model_wrapper=stats.gaussian_wrapper, fit_label=\"Single Gaussian\")\n",
    "gauss2_fit = stats.perform_fit(delta_e, bins=100, display_range=(-6000, 6000), ax=ax, model_wrapper=stats.gaussian2_wrapper, fit_label=\"Double Gaussian\")\n",
    "plt.xlabel(\"$\\Delta E$ [MeV]\")\n",
    "plt.title(r\"$\\Delta E = E_\\mathrm{LKr} - E_\\mathrm{Straw}$ for electron sample\")\n",
    "print(f\"Single Gaussian reduced Chi2: {gauss_fit.redchi:.2f}\")\n",
    "print(f\"Double Gaussian reduced Chi2: {gauss2_fit.redchi:.2f}\")"
   ]
  },
  {
   "cell_type": "markdown",
   "id": "f92aedce-f61a-4ec5-92e5-b82979d65f54",
   "metadata": {},
   "source": [
    "We can see in this case that the double Gaussian looks much better, both visually and comparing the reduced Chi2. We are therefore going to use the result of the double Gaussian model."
   ]
  },
  {
   "cell_type": "code",
   "execution_count": null,
   "id": "659a8d83-c28f-49e0-8007-eed34f97ef7b",
   "metadata": {},
   "outputs": [],
   "source": [
    "gauss2_fit"
   ]
  },
  {
   "cell_type": "markdown",
   "id": "22d3d627-82c0-4337-975c-42255dbdfefd",
   "metadata": {},
   "source": [
    "We can conclude two things from this fit result:\n",
    " - The mean of both Gaussians are slightly but significantly shifted to negative value. This means that the measured energy is always a little less than what we can expect from the momentum measurement (but we cannot tell from this only which one, if any, is more correct).\n",
    " - The energy resolution, measured using the $\\sigma$ of the dominating Gaussian is around $\\sigma_{\\Delta E} \\sim 327 \\pm 6$ MeV.\n",
    "\n",
    "However we have to keep in mind that this resolution is the convolution of the LKr energy resolution and the Spectrometer momentum resolution.\n",
    "$$\\Delta E = E_\\text{LKr} - E_\\text{Straw}$$\n",
    "$$\\sigma_{\\Delta E} = \\sqrt{\\sigma_{E_\\text{LKr}}^2 + \\sigma_{E_\\text{Straw}}^2} \\sim 327 \\pm 6~\\text{MeV}$$\n",
    "We will however assume in the following that the Straw resolution is *small* with respect to the LKr resolution and can therefore be neglected at first order.\n",
    "\n",
    "We also know that the resolution on the energy is not constant and depends on the energy itself. So we can select ranges of energy, repeat this procedure and extract the sigma for each range."
   ]
  },
  {
   "cell_type": "code",
   "execution_count": null,
   "id": "c336fa2d-a67c-402c-b4b5-4bc88090e450",
   "metadata": {},
   "outputs": [],
   "source": [
    "# Bin the energies between 0 and 80 GeV in bins of 1 GeV\n",
    "cut = pd.cut(e_energy, np.arange(0,80000, 1000), labels=False)\n",
    "\n",
    "# Prepare arrays to store the fit results (bin center, sigma, fit error on sigma)\n",
    "energy = []\n",
    "values = []\n",
    "err = []\n",
    "\n",
    "# Loop over the bins in increasing order\n",
    "for binID in cut.value_counts().sort_index().index:\n",
    "    # Select only the tracks in the current bin\n",
    "    delta_e_bin = delta_e.loc[cut==binID]\n",
    "\n",
    "    # Remove bins containing too little stat (request at least 100 tracks in the bin)\n",
    "    if(len(delta_e_bin)<=100):\n",
    "        continue\n",
    "\n",
    "    # Perform the fit, using the double Gaussian model\n",
    "    fitr = stats.perform_fit(delta_e_bin, bins=100, display_range=(-6000, 6000), model_wrapper=stats.gaussian2_wrapper)\n",
    "\n",
    "    # Fill the arrays with the results\n",
    "    energy.append(binID*1000 + 500)\n",
    "    values.append(fitr.params[\"sigma\"].value)\n",
    "    err.append(fitr.params[\"sigma\"].stderr)\n",
    "\n",
    "# Transform the result arrays into numpy array for easier processing later\n",
    "energy = np.array(energy)\n",
    "values = np.array(values)\n",
    "err = np.array(err)"
   ]
  },
  {
   "cell_type": "code",
   "execution_count": null,
   "id": "c6b77c67-806f-4ed4-a25b-cfe494420f82",
   "metadata": {},
   "outputs": [],
   "source": [
    "# Plot the relative resolution (sigma/E)\n",
    "plt.errorbar(energy, values/energy, yerr=err/energy, capsize=2)\n",
    "plt.title(\"Convoluted LKr $\\oplus$ Straw energy resolution as a function of the energy\")\n",
    "plt.ylabel(\"$\\sigma_E/E$\")\n",
    "plt.xlabel(\"E [MeV]\")\n",
    "plt.grid(\"both\")"
   ]
  },
  {
   "cell_type": "markdown",
   "id": "f276bf37-037b-4e67-ab95-02a119fb3ea7",
   "metadata": {},
   "source": [
    "The curve above corresponds to the relative resolution $\\frac{\\sigma_E}{E}$. This can be parametrized as $\\frac{\\sigma_E}{E} = a \\oplus \\frac{b}{\\sqrt{E}} \\oplus \\frac{c}{E} = a \\oplus bE^{-1/2} \\oplus cE^{-1}$ (with E in GeV to be able to compare with the official model). Let's fit the curve with this model."
   ]
  },
  {
   "cell_type": "code",
   "execution_count": null,
   "id": "3b63a2a0-7dbe-481f-a8c3-146c29442479",
   "metadata": {},
   "outputs": [],
   "source": [
    "from lmfit import Model\n",
    "\n",
    "# Define the model \n",
    "def lkr_resolution_model(E, a, b, c):\n",
    "    E = E/1000 # E in GeV for the model\n",
    "    return np.sqrt(a**2 + (b/np.sqrt(E))**2 + (c/E)**2)\n",
    "\n",
    "# Create the lmfit model\n",
    "model = Model(lkr_resolution_model)\n",
    "# Initial guess for the parameters (not unreasonable)\n",
    "params = model.make_params(a = 0.01, b=0.01, c=0.01)\n",
    "\n",
    "# Perform the fit\n",
    "result = model.fit(values/energy, params, E=energy, weights=1/(err/energy))\n",
    "\n",
    "# Plot the result\n",
    "plt.errorbar(energy, values/energy, yerr=err/energy, capsize=2, label=\"Measured resolution\")\n",
    "plt.plot(energy, result.best_fit, '-', label='best fit')\n",
    "plt.plot(energy, lkr_resolution_model(energy, 0.009, 0.048, 0.11), ':', label='Official resolution model')\n",
    "plt.legend()\n",
    "plt.title(\"Convoluted LKr $\\oplus$ Straw energy resolution as a function of the energy\")\n",
    "plt.ylabel(\"$\\sigma_E/E$\")\n",
    "plt.xlabel(\"E [MeV]\")\n",
    "plt.grid(\"both\")\n",
    "\n",
    "# Print the fit result\n",
    "result"
   ]
  },
  {
   "cell_type": "code",
   "execution_count": null,
   "id": "019fd264-a8ce-4887-9697-842c64e63eb6",
   "metadata": {},
   "outputs": [],
   "source": [
    "print(f\"a = {result.params['a'].value:.1%} +- {result.params['a'].stderr:.1%}\")\n",
    "print(f\"b = {result.params['b'].value:.1%} +- {result.params['b'].stderr:.1%}\")\n",
    "print(f\"c = {result.params['c'].value:.1%} +- {result.params['c'].stderr:.1%}\")"
   ]
  },
  {
   "cell_type": "markdown",
   "id": "70b9a775-6ee8-4b03-9ef4-a91c334960b9",
   "metadata": {},
   "source": [
    "The officially recognized resolution is \n",
    "$$\\frac{\\sigma_E}{E} = 0.9\\% \\oplus \\frac{4.8\\%}{\\sqrt{E}} \\oplus \\frac{11\\%}{E}$$\n",
    "while our measurement provides:\n",
    "$$\\frac{\\sigma_E}{E} = 0.0\\% \\oplus \\frac{7.1\\%}{\\sqrt{E}} \\oplus \\frac{9.3\\%}{E}$$\n",
    "\n",
    "However as you can see in the result the uncertainties on the parameters are rather big (especially 'a') and this does not allow us to conclude much. The parameters *b* and *c* have at least reasonable values, only a couple of percent away from the official values."
   ]
  },
  {
   "cell_type": "markdown",
   "id": "958a49f2-14e9-4a39-9d62-8d3822f4feef",
   "metadata": {},
   "source": [
    "## TODO: take into account Straw resolution and see if this improves"
   ]
  },
   ]
  },
  {
   "cell_type": "markdown",
   "id": "8c81c779-11f5-42aa-8853-3e12d5804b00",
   "metadata": {},
   "source": [
    "# Spectrometer momentum resolution"
   ]
  },
  {
   "cell_type": "code",
   "execution_count": null,
   "id": "854e4b9d-94a3-426f-a593-7951c35308ec",
   "metadata": {},
   "outputs": [],
   "source": [
    "k3pi = data.loc[data[\"event_type\"]==constants.event_type_map[\"k3pi\"]]"
   ]
  },
  {
   "cell_type": "code",
   "execution_count": null,
   "id": "6e119ce5-e70f-4f01-85ac-a1766c343b35",
   "metadata": {},
   "outputs": [],
   "source": [
    "t1 = hlf.set_mass(extract.track(k3pi, 1), constants.pion_charged_mass)\n",
    "t2 = hlf.set_mass(extract.track(k3pi, 2), constants.pion_charged_mass)\n",
    "t3 = hlf.set_mass(extract.track(k3pi, 3), constants.pion_charged_mass)\n",
    "beam = extract.get_beam(k3pi)\n",
    "expected_t1 = hlf.three_vectors_sum([beam, hlf.three_vector_invert(t2), hlf.three_vector_invert(t3)])\n",
    "cut = pd.cut(expected_t1[\"momentum_mag\"], np.arange(0,80000, 1000), labels=False)\n",
    "momentum = []\n",
    "values = []\n",
    "err = []\n",
    "plot = False\n",
    "for binID in cut.value_counts().sort_index().index:\n",
    "    delta_p = expected_t1.loc[cut==binID][\"momentum_mag\"] - t1.loc[cut==binID][\"momentum_mag\"]\n",
    "    if(len(delta_p)<=100):\n",
    "        continue\n",
    "    if binID == 20:\n",
    "        plot = True\n",
    "    fitr = stats.fit_gaussian(delta_p, bins=100, display_range=(-3000, 3000), plot=plot)\n",
    "    momentum.append(binID*1000 + 500)\n",
    "    values.append(fitr.params[\"sigma\"].value)\n",
    "    err.append(fitr.params[\"sigma\"].stderr)\n",
    "    if plot:\n",
    "        plt.title(\"Momentum difference between expected and measured momentum\\nfor a K3pi pion in the bin 20 GeV < $E_e$ < 21  GeV\")\n",
    "        plt.xlabel(\"$\\Delta p$ [MeV]\")\n",
    "        display(fitr)\n",
    "    plot = False\n",
    "\n",
    "momentum = np.array(momentum)\n",
    "values = np.array(values)\n",
    "err = np.array(err)"
   ]
  },
  {
   "cell_type": "code",
   "execution_count": null,
   "id": "770e8205-7ca8-475e-aa00-1183dfa2a04a",
   "metadata": {},
   "outputs": [],
   "source": [
    "plt.errorbar(momentum, values/momentum, yerr=err/momentum, capsize=2)"
   ]
  },
  {
   "cell_type": "code",
   "execution_count": null,
   "id": "b90e5c2f-5951-4344-9416-a26a909d4994",
   "metadata": {},
   "outputs": [],
   "source": []
  }
 ],
 "metadata": {
  "kernelspec": {
   "display_name": "Python 3 (ipykernel)",
   "language": "python",
   "name": "python3"
  },
  "language_info": {
   "codemirror_mode": {
    "name": "ipython",
    "version": 3
   },
   "file_extension": ".py",
   "mimetype": "text/x-python",
   "name": "python",
   "nbconvert_exporter": "python",
   "pygments_lexer": "ipython3",
   "version": "3.11.4"
  }
 },
 "nbformat": 4,
 "nbformat_minor": 5
}
