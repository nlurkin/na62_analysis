{
 "cells": [
  {
   "cell_type": "markdown",
   "id": "3720c927-5221-48c3-8184-2588e9c5db41",
   "metadata": {},
   "source": [
    "# Particle Identification studies\n",
    "\n",
    "In this notebook, we will study in more details the particle identification techniques that were mentioned in the previous notebook (RICH-based, LKr-based, MUV3-based)"
   ]
  },
  {
   "cell_type": "code",
   "execution_count": null,
   "id": "6824bcf2-e349-4410-a29b-385cf8c28e93",
   "metadata": {},
   "outputs": [],
   "source": [
    "# Lets first import all we need\n",
    "import uproot\n",
    "import pandas as pd\n",
    "import numpy as np\n",
    "import matplotlib.pyplot as plt\n",
    "import matplotlib as mpl\n",
    "from na62 import prepare, hlf, extract, constants, stats"
   ]
  },
  {
   "cell_type": "code",
   "execution_count": null,
   "id": "8fb8b01a-7bfd-48d4-a1c4-eab7c30bd3bd",
   "metadata": {},
   "outputs": [],
   "source": [
    "# Then we read the data. This will give us a dataframe which contains the data from all the root files we provided\n",
    "data = prepare.import_root_files([\"run12450.root.46\"])"
   ]
  },
  {
   "cell_type": "markdown",
   "id": "c49450c0-75fc-4298-9d77-bc82d368caa9",
   "metadata": {},
   "source": [
    "## RICH-based PID\n",
    "\n",
    "In the previous notebook, we have determined the mapping between the `rich_hypothesis` values and their meaning, which we can remind ourselves here:"
   ]
  },
  {
   "cell_type": "code",
   "execution_count": null,
   "id": "0ce61793-3f68-44e4-9cb7-7acf1cdf9766",
   "metadata": {},
   "outputs": [],
   "source": [
    "constants.rich_hypothesis_map"
   ]
  },
  {
   "cell_type": "markdown",
   "id": "1d625fab-d4ee-4e57-8ed8-603222fc2e2d",
   "metadata": {},
   "source": [
    "Let's have a more detailed look about this technique. How does it work?\n",
    "\n",
    "As you know from your detector course, a particle travelling in a medium at a speed higher than the speed of ligh **in the medium** will generate a cone of Cherenkov light. The opening angle of the cone depends on multiple parameters (the pressure-dependent medium refractive index $n(pressure)$, and the particle speed $v$) in the relation $cos\\theta_\\text{c} = \\frac{c}{nv}$. In the NA62 RICH, the light in the Cherenkov cone is reflected by mirrors on the end-wall onto disks of photo-multipliers (PMTs) located in the front-wall. These disks will detect the photons and, using the PMTs position, we can reconstruct a ring whose diameter is directly proportional to the Cherenkov cone opening angle. The proportionality factor is the focal length of the mirrors (17 m in NA62 RICH). The particle speed not being a very relevant parameter in this context, we can express it instead in terms of the mass $m$ and the momentum $p$: $v = p/E = p/\\sqrt{m^2 + p^2}$. Substituting this into the Cherenkov angle expression we get $cos\\theta_\\text{c} = \\frac{c\\sqrt{m^2 + p^2}}{np}$. \n",
    "\n",
    "In NA62, as already mentioned, the refrative index is chosen to give the best performances in the momentum range $15~\\text{GeV} < p < 40~\\text{GeV}$ (corresponding to the most likely range for the $\\pi^+$ momentum in the $K^+\\to\\pi^+\\nu\\bar{\\nu}$ decay). The medium used is neon at a pressure of 1 atmosphere. In this latest expression, the value of $n$ is therefore fixed, the particle momentum is measured independently by the STRAW spectrometer, and you can see that the Cherenkov angle then depends only on the particle mass, providing us with a nice way to identify particles.\n",
    "\n",
    "As an exercise, please implement below a function that will give us the ring diameter as a function of the particle mass and momentum:"
   ]
  },
  {
   "cell_type": "code",
   "execution_count": null,
   "id": "96ccbc78-64fe-482e-afd2-c7d9421d12bd",
   "metadata": {},
   "outputs": [],
   "source": [
    "def ring_radius(p, mass):\n",
    "    n = 1.000063 # Refractive index in NA62\n",
    "    f = 17*1000  # Focal lenght in NA62 (17m)\n",
    "    c = 1        # Light speed in natural units\n",
    "\n",
    "    # [FILL HERE]\n",
    "    # Compute the ring radius as a function of the momentum and mass provided\n",
    "    # in input. \n",
    "    # All the NA62 specific values that are needed in the equation are provided \n",
    "    # above: refractive index, focal length and speed of light (as a gift)\n",
    "    \n",
    "    return # [SOMETHING]\n",
    "\n",
    "ring_radius = hlf.ring_radius"
   ]
  },
  {
   "cell_type": "markdown",
   "id": "4570ad78-fede-480f-ae46-a65783eab95f",
   "metadata": {},
   "source": [
    "Below we are going to extract all the tracks that are available to us in these data and plot the ring radius as a function of the momentum.\n",
    "We are also going to plot the theoretical values computed by your function for all the particles we could see in NA62 ($e/\\mu/\\pi/K/p$). "
   ]
  },
  {
   "cell_type": "code",
   "execution_count": null,
   "id": "7cf9dae8-e78d-4711-9b6a-1ecb7fe30a9b",
   "metadata": {},
   "outputs": [],
   "source": [
    "# Get all tracks in the events\n",
    "all_tracks = extract.all_tracks(data)\n",
    "\n",
    "# And plot the ring_radius as a function of the momentum\n",
    "_ = plt.hist2d(all_tracks[\"momentum_mag\"], all_tracks[\"rich_radius\"], cmin=1, bins=(250,200), range=((0,75000),(0,200)), norm=mpl.colors.LogNorm())\n",
    "plt.title(\"RICH ring radius vs momentum (all tracks)\\nwith theoretical curves\")\n",
    "plt.xlabel(\"p [MeV]\")\n",
    "plt.ylabel(\"Ring radius [mm]\")\n",
    "\n",
    "# Generate momentum range between 1 GeV and 75 GeV in steps of 1 GeV\n",
    "p = np.arange(1000, 75000, 1000)\n",
    "\n",
    "# Plot the ring radius for the e/pi/mu/K/p masses\n",
    "plt.plot(p, ring_radius(p, constants.electron_mass), label=\"$e^\\pm$\")\n",
    "plt.plot(p, ring_radius(p, constants.muon_mass), label=\"$\\mu^\\pm$\")\n",
    "plt.plot(p, ring_radius(p, constants.pion_charged_mass), label=\"$\\pi^\\pm$\")\n",
    "plt.plot(p, ring_radius(p, constants.kaon_charged_mass), label=\"$K^\\pm$\")\n",
    "plt.plot(p, ring_radius(p, constants.proton_mass), label=\"$p^\\pm$\")\n",
    "_ = plt.legend(loc=\"lower right\")"
   ]
  },
  {
   "cell_type": "markdown",
   "id": "f8ec5a46-c7b8-4378-9699-d7284d8a20ee",
   "metadata": {},
   "source": [
    "If your function is correctly written, you can observe that the curves for the $e^\\pm, \\mu^\\pm, \\pi^\\pm$ fit perfectly the three main curves that we ca observe in the data.\n",
    "The kaon theoretical curve is also present, but we do not see a corresponding data curve. If we had a lot more data and were not preselecting for you some specific decay channels, we could observe a light kaon curve as well.\n",
    "\n",
    "For the proton on the other hand, you do not even see the theoretical curve. Why do you think that is?\n",
    "<details>\n",
    "<summary>Click here to show the answer</summary>\n",
    "The Cherenkov radiation has a cutoff value. The particle $\\beta$ should be higher than $\\beta_{th} = 1/n$. In the case of a proton below 75 GeV, we have $\\beta < p/E = p/\\sqrt{m^2 + p^2} = 0.999922$, which is smaller than $\\beta_{th} = 1/n = 0.999937$.\n",
    "Therefore, the proton at any reachable NA62 energy does not produce Cherenkov light in the NA62 RICH.\n",
    "</details>"
   ]
  },
  {
   "cell_type": "markdown",
   "id": "4c6250bb-21b9-43a8-b397-b7bf9e196461",
   "metadata": {},
   "source": [
    "Another thing you can observe on the plot is that while your theoretical lines are very thin, the data curves actually have a certain width. This corresponds to the angular resolution and impedes somewhat our ability to distinguish properly between particles. You can see that up to ~30 GeV we can reasonably well separate the particles by eye. Between 30 GeV and 40 GeV this is becoming a little bit more complicated and we can expect already some occasional mixing between the different curves, resulting in wrong particle identification. Above 40 GeV the curves are completely degenerate and we have completely lost PID capabilities."
   ]
  },
  {
   "cell_type": "markdown",
   "id": "e2d1b384-699e-499c-a310-ebdc5ba510a4",
   "metadata": {},
   "source": [
    "The simplest PID algorithm using the RICH is to identify rings of hits on the RICH and for each of these rings measure the radius. Knowing the momentum of the particle and the curves above, we can then assign an hypothesis to the ring.\n",
    "\n",
    "In practice it is more complicated:\n",
    " - The rings are made of only a few hits (11 hits on average). Instead of a clean, nice ring we may therefore have only a partial ring. This complicates both identification of a ring, and the measurement.\n",
    " - We need to take into account the resolution on the ring radius\n",
    " - If we have multiple particles passing through the RICH, this will leave multiple rings, leading to two main complications\n",
    "   - The ring identification is more difficult as we have multiple overlapping partial rings\n",
    "   - Even having identified the ring and the radius correctly, to which of the track do we assign each ring?\n",
    "  \n",
    "We have developed more complicated algorithms based on likelihood computations. The algorithm are quite long and complicated, relying also on the computation of the expected position of the ring extrapolated from other detectors. The data provided here do not allow to run such complex algorithms. Just remember that the `rich_hypothesis` variable that we are looking at is in fact the result of this likelihood algorithm."
   ]
  },
  {
   "cell_type": "markdown",
   "id": "32264d3f-32ec-4f0d-ad18-169126b379ac",
   "metadata": {},
   "source": [
    "Let's confirm below that the `rich_hypothesis` corresponds to the ring radius curves."
   ]
  },
  {
   "cell_type": "code",
   "execution_count": null,
   "id": "111c4146-7a8c-49a4-b114-8c1ced80392a",
   "metadata": {},
   "outputs": [],
   "source": [
    "# Isolate the three types of tracks\n",
    "mu_tracks = all_tracks.loc[all_tracks[\"rich_hypothesis\"]==constants.rich_hypothesis_map[\"mu\"]]\n",
    "e_tracks = all_tracks.loc[all_tracks[\"rich_hypothesis\"]==constants.rich_hypothesis_map[\"e\"]]\n",
    "pi_tracks = all_tracks.loc[all_tracks[\"rich_hypothesis\"]==constants.rich_hypothesis_map[\"pi\"]]\n",
    "\n",
    "# Prepare three plots\n",
    "fig, ax = plt.subplots(1, 3, figsize=(21,5))\n",
    "\n",
    "# Plot the muon tracks curve\n",
    "ax[0].hist2d(mu_tracks[\"momentum_mag\"], mu_tracks[\"rich_radius\"], cmin=1, bins=(250,200), range=((0,75000),(0,200)), norm=mpl.colors.LogNorm())\n",
    "ax[0].plot(p, ring_radius(p, constants.muon_mass), color=\"red\")\n",
    "ax[0].set_title(\"Ring radius vs. momentum ($\\mu^\\pm$ tracks)\") \n",
    "ax[0].set_xlabel(\"p [MeV]\")\n",
    "ax[0].set_ylabel(\"Ring radius [mm]\")\n",
    "\n",
    "# Plot the electron track curve\n",
    "ax[1].hist2d(e_tracks[\"momentum_mag\"], e_tracks[\"rich_radius\"], cmin=1, bins=(250,200), range=((0,75000),(0,200)), norm=mpl.colors.LogNorm())\n",
    "ax[1].plot(p, ring_radius(p, constants.electron_mass), color=\"red\")\n",
    "ax[1].set_title(\"Ring radius vs. momentum ($e^\\pm$ tracks)\") \n",
    "ax[1].set_xlabel(\"p [MeV]\")\n",
    "ax[1].set_ylabel(\"Ring radius [mm]\")\n",
    "\n",
    "# Plot the pion track curve\n",
    "ax[2].hist2d(pi_tracks[\"momentum_mag\"], pi_tracks[\"rich_radius\"], cmin=1, bins=(250,200), range=((0,75000),(0,200)), norm=mpl.colors.LogNorm())\n",
    "ax[2].plot(p, ring_radius(p, constants.pion_charged_mass), color=\"red\")\n",
    "ax[2].set_title(\"Ring radius vs. momentum ($\\pi^\\pm$ tracks)\") \n",
    "ax[2].set_xlabel(\"p [MeV]\")\n",
    "_ = ax[2].set_ylabel(\"Ring radius [mm]\")"
   ]
  },
  {
   "cell_type": "markdown",
   "id": "81ea0bc9-98b9-432e-b613-353ae9088170",
   "metadata": {},
   "source": [
    "This looks good, aside from some discontinuity in the electron curve around 35 GeV where we start to loose separation power."
   ]
  },
  {
   "cell_type": "markdown",
   "id": "63812a9c-f136-4743-bb30-b6e2b8399f0e",
   "metadata": {},
   "source": [
    "## MUV3-based PID"
   ]
  },
  {
   "cell_type": "markdown",
   "id": "0bb8a4d3-c146-4f7d-9193-2b1d6008fe7f",
   "metadata": {},
   "source": [
    "The MUV3 detector is composed of scintillator tiles located being a thick iron wall. As a result all particles except muons are expected to be absorbed by the wall and only muons will be detected in the MUV3 detector. While this provides no ability to distinguish between electron and pions, this provides an excellent efficiency at identifying muons just by checking if a signal is observed on the detector at the location expected by simple extrapolation of the track position.\n",
    "\n",
    "This is simply provided through the `has_muv3` variable. We can select all tracks having MUV3 association and check the RICH hypothesis for those track to confirm the compatibility between the two PID methods."
   ]
  },
  {
   "cell_type": "code",
   "execution_count": null,
   "id": "017953de-618e-4cff-a9ed-a31d3b8b371a",
   "metadata": {},
   "outputs": [],
   "source": [
    "muv3_tracks = all_tracks.loc[all_tracks[\"has_muv3\"]]\n",
    "muv3_tracks[\"rich_hypothesis\"].value_counts()/len(muv3_tracks)"
   ]
  },
  {
   "cell_type": "markdown",
   "id": "4b3d428b-7640-489d-b7d6-8b2a43ed43e9",
   "metadata": {},
   "source": [
    "We see that it is mostly compatible with 76% of MUV3 tracks being identified as $\\mu^\\pm$ in the RICH, although with quite a sizable contribution from both $e^\\pm$ and $\\pi^\\pm$.\n",
    "\n",
    "Now let's make a small exercise and look at the efficiency of the MUV3. Let's cheat for now and select only kmu2 event that have been pre-identified and get the muon track. We can compute the detection efficiency (assuming that the selection is independent of MUV3) as the ratio between the kmu2 tracks with signal in MUV3 with respect to all kmu2 tracks."
   ]
  },
  {
   "cell_type": "code",
   "execution_count": null,
   "id": "43b457d8-ad11-4978-8e56-5403110b6959",
   "metadata": {},
   "outputs": [],
   "source": [
    "kmu2 = data.loc[data[\"event_type\"]==constants.event_type_map[\"kmu2\"]]\n",
    "mu_tracks = extract.track(kmu2, 1)\n",
    "mu_tracks_with_muv3 = mu_tracks.loc[mu_tracks[\"has_muv3\"]]\n",
    "print(f\"MUV3 efficiency: {len(mu_tracks_with_muv3)/len(mu_tracks):.2%}\")"
   ]
  },
  {
   "cell_type": "markdown",
   "id": "8a9d42f9-759c-4e3a-96eb-fd5fe99b5e3b",
   "metadata": {},
   "source": [
    "We can see this is very high, but not 100%, so a small fraction of muon tracks may not be identified correctly using the MUV3 tagging. \n",
    "We can check if maybe this efficiency is uniformly distributed on the MUV3. We are going to extrapolate each track to the MUV3 position and compute the efficiency as a function of the extrapolated position (2D efficiency). Here we are going to provide to the `propagate` method the information about the position and direction variables as the MUV3 is located behind the Straw spectrometer magnet."
   ]
  },
  {
   "cell_type": "code",
   "execution_count": null,
   "id": "3571e90e-e639-4235-bdb9-bbdbcb7a7ba0",
   "metadata": {},
   "outputs": [],
   "source": [
    "# Propage the tracks to the MUV3 position\n",
    "mu_tracks_pos = hlf.propagate(mu_tracks, constants.muv3_position, position_field_name=\"position_am\", direction_field_name=\"direction_am\")\n",
    "mu_tracks_wmuv3_pos = hlf.propagate(mu_tracks_with_muv3, constants.muv3_position, position_field_name=\"position_am\", direction_field_name=\"direction_am\")\n",
    "\n",
    "# Prepare two plots, one for all the tracks and one for the tracks with MUV3 signal\n",
    "bins = (175,200)\n",
    "brange = ((-2500, 1000),(-2000, 2000))\n",
    "fig, ax = plt.subplots(1, 2, figsize=(14, 5))\n",
    "\n",
    "# Plot tracks with MUV3\n",
    "h_muv3, binsx, binsy, _ = ax[0].hist2d(mu_tracks_wmuv3_pos[\"position_x\"], mu_tracks_wmuv3_pos[\"position_y\"], cmin=0.1, bins=bins, range=brange)\n",
    "ax[0].set_title(\"Tracks at MUV3 (muon tracks with MUV3 signal)\")\n",
    "ax[0].set_xlabel(\"x [mm]\")\n",
    "ax[0].set_ylabel(\"y [mm]\")\n",
    "\n",
    "# Plot all tracks\n",
    "h_all, _,_,_ = ax[1].hist2d(mu_tracks_pos[\"position_x\"], mu_tracks_pos[\"position_y\"], cmin=1, bins=bins, range=brange)\n",
    "ax[1].set_title(\"Tracks at MUV3 (all muon tracks)\")\n",
    "ax[1].set_xlabel(\"x [mm]\")\n",
    "ax[1].set_ylabel(\"y [mm]\")"
   ]
  },
  {
   "cell_type": "code",
   "execution_count": null,
   "id": "6fa15b82-95a0-40be-89db-23016da7954d",
   "metadata": {},
   "outputs": [],
   "source": [
    "# Compute now the ratio (efficiency)\n",
    "efficiency = h_muv3/h_all \n",
    "\n",
    "# Plot the efficiency\n",
    "plt.figure(figsize=(8, 5))\n",
    "plt.imshow(efficiency.T.clip(0, 1), extent=[binsx[0], binsx[-1], binsy[0], binsy[-1]], aspect=\"auto\")\n",
    "plt.colorbar(label=\"Efficiency\")\n",
    "plt.title(\"MUV3 detection efficiency\")\n",
    "plt.xlabel(\"x [mm]\")\n",
    "_ = plt.ylabel(\"y [mm]\")"
   ]
  },
  {
   "cell_type": "markdown",
   "id": "a35915e3-d8e7-4042-be5a-d8b5ebebad83",
   "metadata": {},
   "source": [
    "The efficiency is rather uniform, but we can see a couple of regions on the left and right of the beam hole that look slightly less efficient."
   ]
  },
  {
   "cell_type": "markdown",
   "id": "4510b327-db03-47ba-b9d9-4c22f66221ad",
   "metadata": {},
   "source": [
    "### LKr-based PID"
   ]
  },
  {
   "cell_type": "markdown",
   "id": "40af7ff2-cfba-43c4-a038-79745b64572c",
   "metadata": {},
   "source": [
    "The LKr detector is a quasi-homogenous electromagnetic calorimeter filled with $10 m^3$ of liquid krypton ($27 X_0$). It can fully contain electromagnetic showers generated by photons and electrons. Pions will leave some fraction of their energy in the LKr, but some will generally escape into the hadronic calorimeters (MUV1/2) located behind the LKr. Muons, being MIPs, will generally leave very little of their energy in the LKr. The LKr-based PID works using these facts. \n",
    "\n",
    "The total energy of the particle is known through their momentum measured in the STRAW spectrometer. The fraction of energy left in the LKr can therefore be measured simply as $eop = E/p$ (technically it should be $eop = E/\\sqrt{p^2 + m^2}$ but at NA62 energies this is equivalent as $p^2 >> m^2$).\n",
    "\n",
    "Let's have a look at the `eop` distribution for our tracks."
   ]
  },
  {
   "cell_type": "code",
   "execution_count": null,
   "id": "d4d60c5e-efa4-4a21-91d8-16bb16f286d4",
   "metadata": {},
   "outputs": [],
   "source": [
    "all_tracks[\"eop\"].hist(bins=110, range=(0,1.1))\n",
    "plt.yscale(\"log\")\n",
    "plt.title(\"Track E/p\")\n",
    "plt.xlabel(\"E/p\")"
   ]
  },
  {
   "cell_type": "markdown",
   "id": "a33d6ad2-9c96-4d40-b9f4-3262e0eeb088",
   "metadata": {},
   "source": [
    "We can observe here three distinct regions:\n",
    " - E/p < 0.1: this will correspond mostly to muons (with a contribution from pions)\n",
    " - 0.1 < E/p < 0.9: this will correspond mostly to pions\n",
    " - E/p > 0.9: this will correspond mostly to electrons\n",
    "\n",
    "We can confirm this by doing the same plot for the tracks associated with each of the rich hypothesis (in the efficient RICH momentum range)."
   ]
  },
  {
   "cell_type": "code",
   "execution_count": null,
   "id": "8e49b63c-91cf-4a96-a2ee-0e47a0e51d3f",
   "metadata": {},
   "outputs": [],
   "source": [
    "# Select tracks in the efficient RICH range\n",
    "rich_eff_tracks = all_tracks[(all_tracks[\"momentum_mag\"]>15000) & (all_tracks[\"momentum_mag\"]<40000)]\n",
    "\n",
    "# Split based on rich hypotesis\n",
    "e_tracks = rich_eff_tracks.loc[rich_eff_tracks[\"rich_hypothesis\"]==constants.rich_hypothesis_map[\"e\"]]\n",
    "pi_tracks = rich_eff_tracks.loc[rich_eff_tracks[\"rich_hypothesis\"]==constants.rich_hypothesis_map[\"pi\"]]\n",
    "mu_tracks = rich_eff_tracks.loc[rich_eff_tracks[\"rich_hypothesis\"]==constants.rich_hypothesis_map[\"mu\"]]\n",
    "\n",
    "# Plot the tracks\n",
    "mu_tracks[\"eop\"].hist(bins=110, range=(0,1.1), label=\"muon hypothesis\", histtype=\"step\")\n",
    "e_tracks[\"eop\"].hist(bins=110, range=(0,1.1), label=\"electron hypothesis\", histtype=\"step\")\n",
    "pi_tracks[\"eop\"].hist(bins=110, range=(0,1.1), label=\"pion hypothesis\", histtype=\"step\")\n",
    "plt.yscale(\"log\")\n",
    "plt.title(\"Track E/p\")\n",
    "plt.xlabel(\"E/p\")\n",
    "_ = plt.legend()"
   ]
  },
  {
   "cell_type": "markdown",
   "id": "7681c192-77d4-4cf8-83c3-90c927444450",
   "metadata": {},
   "source": [
    "The plot above roughly confirms what was said above about the three regions. However we clearly have some cross-category contamination. This will be the topic of the next section."
   ]
  },
  {
   "cell_type": "markdown",
   "id": "7acdd53b-72a9-4923-8ecf-a6aa25521fd2",
   "metadata": {},
   "source": [
    "Generally the conditions you want to apply on the E/p for identification purposes depends on your intent (selection vs. rejection - or in other terms purity vs. efficiency)[<sup>1</sup>](#fn1). For example if you want to select electrons, you will want to make a tight cut on the E/p to make sure your sample is pure. You will use a condition such as $0.95 < E/p < 1.05$ even though this is clearly restrictive with respect to the plot above. But at the expense of some acceptance, we have a cleaner sample than if we had used a looser cut. On the other hand if you have a sample on which you want to exclude electrons, you will want to use something like $E/p > 0.9$ to define an electron, insuring that you are rejecting as many electrons as possible. We are going to use these numbers in the following and they are quite good cuts, but this will be demonstrated later.\n",
    "\n",
    "<span id=\"fn1\"><font size=2><sup>1</sup> Changing the \"tight\" direction of a cut depending on your intent is a rule that is generally valid and should be kept in mind.</font></span>"
   ]
  },
  {
   "cell_type": "markdown",
   "id": "08579779-5437-4898-b0d7-1dd6b28f3e00",
   "metadata": {},
   "source": [
    "### Mis-identification\n",
    "\n",
    "There are a few reasons why a particle would be mis-identified in a detector. We have already seen a few:\n",
    " - For the RICH, there is some overlap between hypothesis due to the resolution of the detector\n",
    " - For the RICH, there is degeneracy between hypothesis above some momentum\n",
    " - For the LKr, the process used for particle identification in the LKr is a stochastic process with overlapping probabilities between hypothesis.\n",
    " - For MUV3, some inefficiencies in the detector can lead to missing signal\n",
    "\n",
    "In addition to this we must also consider pile-up. Events are not coming alone and well separated in the detector. A large fraction of the particle rate actually comes from a halo of muons generated in the target and beam line and transported by the beam line into the experiment. The probability of having a signal from such a muon at the same time as an event is non-negligible, and occasionally may be geometrically compatible. This can fake a MUV3 signal compatible with a non-muon track from the event.\n",
    "\n",
    "All these issues can lead to a mis-identification in a single detector. Our best course of action to obtain the best PID possible is therefore to combine all the detectors to provide a stronger PID, rejecting events with conflicting PID (at the expense of some acceptance).\n",
    "\n",
    "Let's have a more detailed look at mis-identification below."
   ]
  },
  {
   "cell_type": "markdown",
   "id": "9c537eac-baab-403d-8066-a86dfadf2cec",
   "metadata": {},
   "source": [
    "As a starting point, let's define all the conditions that we will be using. In order to compare better between the detectors, we will also restrict ourselves to the RICH effective momentum range $15~\\text{GeV} < p < 40~\\text{GeV}$."
   ]
  },
  {
   "cell_type": "code",
   "execution_count": null,
   "id": "ee793d48-9a76-4253-84a2-dd6afac586c9",
   "metadata": {},
   "outputs": [],
   "source": [
    "# Momentum range condition\n",
    "momentum_condition = hlf.make_momentum_cut(15000, 40000)\n",
    "\n",
    "# E/p conditions (note the overlap between pi and mu conditions)\n",
    "eop_e_cond = hlf.make_eop_cut(0.95, 1.05)\n",
    "eop_pi_cond = hlf.make_eop_cut(None, 0.95)\n",
    "eop_mu_cond = hlf.make_eop_cut(None, 0.20)\n",
    "\n",
    "# RICH conditions (automatically include the momentum range restriction, unless specifically changed)\n",
    "rich_e_cond = hlf.make_rich_cut(\"e\")\n",
    "rich_pi_cond = hlf.make_rich_cut(\"pi\")\n",
    "rich_mu_cond = hlf.make_rich_cut(\"mu\")\n",
    "\n",
    "# MUV3 condition\n",
    "muv3_mu_cond = hlf.make_muv3_cut(True)\n",
    "muv3_notmu_cond = hlf.make_muv3_cut(False)"
   ]
  },
  {
   "cell_type": "markdown",
   "id": "d1ac4213-528e-4d76-8e8c-86221b5fc5c4",
   "metadata": {},
   "source": [
    "Then we can start looking at our tracks, starting with those identified as electrons in the RICH. We compare them to the PID result in the other detectors."
   ]
  },
  {
   "cell_type": "code",
   "execution_count": null,
   "id": "9a8e88c0-2838-45f4-a626-3fb29776113b",
   "metadata": {},
   "outputs": [],
   "source": [
    "e_rich = hlf.select(all_tracks, [rich_e_cond])\n",
    "eop_pid = hlf.identify(e_rich, {\"e\": [eop_e_cond, momentum_condition], \"other\": [eop_pi_cond, momentum_condition]}) # Use only the pi condition, which is less restrictive than the mu condition.\n",
    "(eop_pid.sum()/len(e_rich))"
   ]
  },
  {
   "cell_type": "markdown",
   "id": "542769e0-4fde-4b80-8f92-582beaad6fd3",
   "metadata": {},
   "source": [
    "We see that in this case the rich is globally not doing a great job at PID. Let's have a look at the E/p values for these tracks."
   ]
  },
  {
   "cell_type": "code",
   "execution_count": null,
   "id": "53240585-d76b-4091-83b6-f17fc98a0220",
   "metadata": {},
   "outputs": [],
   "source": [
    "# Plot E/p\n",
    "e_rich[\"eop\"].hist(bins=100)\n",
    "plt.yscale(\"log\")\n",
    "plt.title(\"E/p for tracks identified as $e^\\pm$ in RICH\")\n",
    "_ = plt.xlabel(\"E/p\")"
   ]
  },
  {
   "cell_type": "markdown",
   "id": "a9eea374-360f-4574-b5a6-62f34c193d61",
   "metadata": {},
   "source": [
    "We can see a clear electron component in the peak around $E/p=1$, but we also have a sizable component detected as MIPs which can clearly not be electrons. Let's look at the E/p as a function of the momentum."
   ]
  },
  {
   "cell_type": "code",
   "execution_count": null,
   "id": "1dd09a9e-603d-4316-89cd-92a4e4df7c72",
   "metadata": {},
   "outputs": [],
   "source": [
    "# Plot E/p vs p\n",
    "_ = plt.hist2d(e_rich[\"momentum_mag\"], e_rich[\"eop\"], cmin=1, bins=(100,100), range=(None, (-0.02, 1.2)), norm=mpl.colors.LogNorm())\n",
    "plt.title(\"E/p vs p for tracks identified as $e^\\pm$ in RICH\")\n",
    "plt.xlabel(\"p [MeV/c]\")\n",
    "_ = plt.ylabel(\"E/p\")"
   ]
  },
  {
   "cell_type": "markdown",
   "id": "cbe2f253-2bac-4fe8-8892-37dcfe9d52cd",
   "metadata": {},
   "source": [
    "This is becoming clearer now that those electrons with very low E/p identified by the RICH as electrons are in fact at high momentum where we start to lose PID capabilities. Instead of looking at the global mis-identification between the RICH and E/p techniques, we can look at it as a function of momentum."
   ]
  },
  {
   "cell_type": "code",
   "execution_count": null,
   "id": "92dd709f-17b5-4a37-875f-5931dd857f09",
   "metadata": {},
   "outputs": [],
   "source": [
    "# Include the E/p PID result in the tracks dataframe\n",
    "e_rich_wpid = e_rich.merge(eop_pid, left_index=True, right_index=True)\n",
    "\n",
    "# Create a categorization in range of momentum in steps of 2.5 GeV\n",
    "df_cut = pd.cut(e_rich_wpid[\"momentum_mag\"], np.arange(15000,42500, 2500))\n",
    "\n",
    "# Group the tracks in each category, then count the number of tracks identified by E/p as e or other and the total number of tracks\n",
    "pid = e_rich_wpid[[\"e\", \"other\", \"index\"]].groupby(df_cut).agg({\"e\": \"sum\", \"other\": \"sum\", \"index\": \"count\"})\n",
    "pid.index = pid.index.categories.left # This is to remember only the lower edge of each category for a better display\n",
    "\n",
    "# Plot the fraction of tracks identified by E/p as e wrt. to total number of tracks. We don't care about other here, also that essentially 1-e\n",
    "pid[\"e\"].div(pid[\"index\"], axis=0).plot()\n",
    "plt.xticks(rotation = 45)\n",
    "plt.title(\"Probability of PID as $e^\\pm$ using E/p\\n for tracks identified as $e^\\pm$ in RICH\")\n",
    "plt.ylabel(r\"$P(e_\\mathrm{E/p}|e_\\mathrm{RICH})$\")\n",
    "plt.xlabel(\"p [MeV/c]\")\n",
    "plt.grid(\"both\")\n",
    "plt.ylim(0,1.1)"
   ]
  },
  {
   "cell_type": "markdown",
   "id": "0c716883-6bec-44c4-a36d-f7b91f59072b",
   "metadata": {},
   "source": [
    "We can now clearly see the dependency. The E/p technique agrees in >70% of the cases with the RICH hypothesis up to 25 GeV/c, but then plumets quickly to nothing at 40 GeV/c.\n",
    "\n",
    "We can play a similar exercise for tracks identified as muons or pions in the RICH"
   ]
  },
  {
   "cell_type": "code",
   "execution_count": null,
   "id": "1742cf2f-614f-4ec0-82d4-d2f5313ff328",
   "metadata": {},
   "outputs": [],
   "source": [
    "# Select tracks identified as muons in RICH, perform the E/p PID and plot the fraction\n",
    "mu_rich = hlf.select(all_tracks, [rich_mu_cond])\n",
    "# In the \"other\" condition below, we just want to exclude what we defined as muon (eop_pi_cond PID would actually include muons too, and electrons would be completely excluded)\n",
    "eop_pid = hlf.identify(mu_rich, {\"mu\": [eop_mu_cond, momentum_condition], \"other\": [make_eop_condition(0.2, None), momentum_condition]})\n",
    "# Plot the fraction of each category\n",
    "(eop_pid.sum()/len(mu_rich))"
   ]
  },
  {
   "cell_type": "code",
   "execution_count": null,
   "id": "48e5a9af-216b-4f8e-a379-35ae8aec2361",
   "metadata": {},
   "outputs": [],
   "source": [
    "# Include the E/p PID result in the tracks dataframe\n",
    "mu_rich_wpid = mu_rich.merge(eop_pid, left_index=True, right_index=True)\n",
    "\n",
    "# Create a categorization in range of momentum in steps of 2.5 GeV\n",
    "df_cut = pd.cut(mu_rich_wpid[\"momentum_mag\"], np.arange(15000,42500, 2500))\n",
    "\n",
    "# Group the tracks in each category, then count the number of tracks identified by E/p as mu or other and the total number of tracks\n",
    "pid = mu_rich_wpid[[\"mu\", \"other\", \"index\"]].groupby(df_cut).agg({\"mu\": \"sum\", \"other\": \"sum\", \"index\": \"count\"})\n",
    "pid.index = pid.index.categories.left # This is to remember only the lower edge of each category for a better display\n",
    "\n",
    "# Plot the fraction of tracks identified by E/p as mu wrt. to total number of tracks. We don't care about other here, also that essentially 1-e\n",
    "pid[\"mu\"].div(pid[\"index\"], axis=0).plot()\n",
    "plt.xticks(rotation = 45)\n",
    "plt.title(\"Probability of PID as $\\mu^\\pm$ using E/p\\n for tracks identified as $\\mu^\\pm$ in RICH\")\n",
    "plt.ylabel(r\"$P(\\mu_\\mathrm{E/p}|\\mu_\\mathrm{RICH})$\")\n",
    "plt.xlabel(\"p [MeV/c]\")\n",
    "plt.grid(\"both\")\n",
    "plt.ylim(0,1.1)"
   ]
  },
  {
   "cell_type": "code",
   "execution_count": null,
   "id": "ab209cf5-59b8-49a1-89f9-b19cb4c2e94a",
   "metadata": {},
   "outputs": [],
   "source": [
    "# Select tracks identified as muons in RICH, perform the E/p PID and plot the fraction\n",
    "pi_rich = hlf.select(all_tracks, [rich_pi_cond])\n",
    "# In the \"pi\" condition below, we also include mu as E/p technique does not allow to separate pions from muons\n",
    "eop_pid = hlf.identify(pi_rich, {\"pi\": [eop_pi_cond, momentum_condition], \"e\": [eop_e_cond, momentum_condition]})\n",
    "# Plot the fraction of each category\n",
    "(eop_pid.sum()/len(pi_rich))"
   ]
  },
  {
   "cell_type": "code",
   "execution_count": null,
   "id": "a5227923-ef9f-4a44-8a99-d7ffab3272dc",
   "metadata": {},
   "outputs": [],
   "source": [
    "# Include the E/p PID result in the tracks dataframe\n",
    "pi_rich_wpid = pi_rich.merge(eop_pid, left_index=True, right_index=True)\n",
    "\n",
    "# Create a categorization in range of momentum in steps of 2.5 GeV\n",
    "df_cut = pd.cut(pi_rich_wpid[\"momentum_mag\"], np.arange(15000,42500, 2500))\n",
    "\n",
    "# Group the tracks in each category, then count the number of tracks identified by E/p as pi or other and the total number of tracks\n",
    "pid = pi_rich_wpid[[\"pi\", \"e\", \"index\"]].groupby(df_cut).agg({\"pi\": \"sum\", \"e\": \"sum\", \"index\": \"count\"})\n",
    "pid.index = pid.index.categories.left # This is to remember only the lower edge of each category for a better display\n",
    "\n",
    "# Plot the fraction of tracks identified by E/p as pi wrt. to total number of tracks. We don't care about other here, also that essentially 1-e\n",
    "pid[\"pi\"].div(pid[\"index\"], axis=0).plot()\n",
    "plt.xticks(rotation = 45)\n",
    "plt.title(\"Probability of PID as $\\pi^\\pm$ using E/p\\n for tracks identified as $\\pi^\\pm$ in RICH\")\n",
    "plt.ylabel(r\"$P(\\pi_\\mathrm{E/p}|\\pi_\\mathrm{RICH})$\")\n",
    "plt.xlabel(\"p [MeV/c]\")\n",
    "plt.grid(\"both\")\n",
    "plt.ylim(0,1.1)"
   ]
  },
  {
   "cell_type": "markdown",
   "id": "cecd3e95-bac8-4eb7-8508-db13a155685c",
   "metadata": {},
   "source": [
    "As you can see above, the RICH is doing much better at identifying the pions and muons than the electrons.\n",
   ]
  },
 ],
 "metadata": {
  "kernelspec": {
   "display_name": "Python 3 (ipykernel)",
   "language": "python",
   "name": "python3"
  },
  "language_info": {
   "codemirror_mode": {
    "name": "ipython",
    "version": 3
   },
   "file_extension": ".py",
   "mimetype": "text/x-python",
   "name": "python",
   "nbconvert_exporter": "python",
   "pygments_lexer": "ipython3",
   "version": "3.11.4"
  }
 },
 "nbformat": 4,
 "nbformat_minor": 5
}
