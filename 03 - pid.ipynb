{
 "cells": [
  {
   "cell_type": "markdown",
   "id": "3720c927-5221-48c3-8184-2588e9c5db41",
   "metadata": {},
   "source": [
    "# Particle Identification studies\n",
    "\n",
    "In this notebook, we will study in more details the particle identification techniques that were mentioned in the previous notebook (RICH-based, LKr-based, MUV3-based)"
   ]
  },
 ],
 "metadata": {
  "kernelspec": {
   "display_name": "Python 3 (ipykernel)",
   "language": "python",
   "name": "python3"
  },
  "language_info": {
   "codemirror_mode": {
    "name": "ipython",
    "version": 3
   },
   "file_extension": ".py",
   "mimetype": "text/x-python",
   "name": "python",
   "nbconvert_exporter": "python",
   "pygments_lexer": "ipython3",
   "version": "3.11.4"
  }
 },
 "nbformat": 4,
 "nbformat_minor": 5
}
