{
 "cells": [
  {
   "cell_type": "markdown",
   "id": "3720c927-5221-48c3-8184-2588e9c5db41",
   "metadata": {},
   "source": [
    "# Particle Identification studies\n",
    "\n",
    "In this notebook, we will study in more details the particle identification techniques that were mentioned in the previous notebook (RICH-based, LKr-based, MUV3-based)"
   ]
  },
  {
   "cell_type": "code",
   "execution_count": null,
   "id": "6824bcf2-e349-4410-a29b-385cf8c28e93",
   "metadata": {},
   "outputs": [],
   "source": [
    "# Lets first import all we need\n",
    "import uproot\n",
    "import pandas as pd\n",
    "import numpy as np\n",
    "import matplotlib.pyplot as plt\n",
    "import matplotlib as mpl\n",
    "from na62 import prepare, hlf, extract, constants, stats"
   ]
  },
  {
   "cell_type": "code",
   "execution_count": null,
   "id": "8fb8b01a-7bfd-48d4-a1c4-eab7c30bd3bd",
   "metadata": {},
   "outputs": [],
   "source": [
    "# Then we read the data. This will give us a dataframe which contains the data from all the root files we provided\n",
    "data = prepare.import_root_files([\"run12450.root.184\"])"
   ]
  },
  {
   "cell_type": "markdown",
   "id": "c49450c0-75fc-4298-9d77-bc82d368caa9",
   "metadata": {},
   "source": [
    "## RICH-based PID\n",
    "\n",
    "In the previous notebook, we have determined the mapping between the `rich_hypothesis` values and their meaning, which we can remind ourselves here:"
   ]
  },
  {
   "cell_type": "code",
   "execution_count": null,
   "id": "0ce61793-3f68-44e4-9cb7-7acf1cdf9766",
   "metadata": {},
   "outputs": [],
   "source": [
    "constants.rich_hypothesis_map"
   ]
  },
  {
   "cell_type": "markdown",
   "id": "1d625fab-d4ee-4e57-8ed8-603222fc2e2d",
   "metadata": {},
   "source": [
    "Let's have a more detailed look about this technique. How does it work?\n",
    "\n",
    "As you know from your detector course, a particle travelling in a medium at a speed higher than the speed of ligh **in the medium** will generate a cone of Cherenkov light. The opening angle of the cone depends on multiple parameters (the pressure-dependent medium refractive index $n(pressure)$, and the particle speed $v$) in the relation $cos\\theta_\\text{c} = \\frac{c}{nv}$. In the NA62 RICH, the light in the Cherenkov cone is reflected by mirrors on the end-wall onto disks of photo-multipliers (PMTs) located in the front-wall. These disks will detect the photons and, using the PMTs position, we can reconstruct a ring whose diameter is directly proportional to the Cherenkov cone opening angle. The proportionality factor is the focal length of the mirrors (17 m in NA62 RICH). The particle speed not being a very relevant parameter in this context, we can express it instead in terms of the mass $m$ and the momentum $p$: $v = p/E = p/\\sqrt{m^2 + p^2}$. Substituting this into the Cherenkov angle expression we get $cos\\theta_\\text{c} = \\frac{c\\sqrt{m^2 + p^2}}{np}$. \n",
    "\n",
    "In NA62, as already mentioned, the refrative index is chosen to give the best performances in the momentum range $15~\\text{GeV} < p < 40~\\text{GeV}$ (corresponding to the most likely range for the $\\pi^+$ momentum in the $K^+\\to\\pi^+\\nu\\bar{\\nu}$ decay). The medium used is neon at a pressure of 1 atmosphere. In this latest expression, the value of $n$ is therefore fixed, the particle momentum is measured independently by the STRAW spectrometer, and you can see that the Cherenkov angle then depends only on the particle mass, providing us with a nice way to identify particles.\n",
    "\n",
    "As an exercise, please implement below a function that will give us the ring diameter as a function of the particle mass and momentum:"
   ]
  },
  {
   "cell_type": "code",
   "execution_count": null,
   "id": "96ccbc78-64fe-482e-afd2-c7d9421d12bd",
   "metadata": {},
   "outputs": [],
   "source": [
    "def ring_radius(p, mass):\n",
    "    n = 1.000063 # Refractive index in NA62\n",
    "    f = 17*1000  # Focal lenght in NA62 (17m)\n",
    "    c = 1        # Light speed in natural units\n",
    "\n",
    "    # [FILL HERE]\n",
    "    # Compute the ring radius as a function of the momentum and mass provided\n",
    "    # in input. \n",
    "    # All the NA62 specific values that are needed in the equation are provided \n",
    "    # above: refractive index, focal length and speed of light (as a gift)\n",
    "    \n",
    "    return # [SOMETHING]\n",
    "\n",
    "ring_radius = hlf.ring_radius"
   ]
  },
  {
   "cell_type": "markdown",
   "id": "4570ad78-fede-480f-ae46-a65783eab95f",
   "metadata": {},
   "source": [
    "Below we are going to extract all the tracks that are available to us in these data and plot the ring radius as a function of the momentum.\n",
    "We are also going to plot the theoretical values computed by your function for all the particles we could see in NA62 ($e/\\mu/\\pi/K/p$). "
   ]
  },
  {
   "cell_type": "code",
   "execution_count": null,
   "id": "7cf9dae8-e78d-4711-9b6a-1ecb7fe30a9b",
   "metadata": {},
   "outputs": [],
   "source": [
    "# Get all tracks in the events\n",
    "all_tracks = extract.all_tracks(data)\n",
    "\n",
    "# And plot the ring_radius as a function of the momentum\n",
    "_ = plt.hist2d(all_tracks[\"momentum_mag\"], all_tracks[\"rich_radius\"], cmin=1, bins=(250,200), range=((0,75000),(0,200)), norm=mpl.colors.LogNorm())\n",
    "plt.title(\"RICH ring radius vs momentum (all tracks)\\nwith theoretical curves\")\n",
    "plt.xlabel(\"p [MeV]\")\n",
    "plt.ylabel(\"Ring radius [mm]\")\n",
    "\n",
    "# Generate momentum range between 1 GeV and 75 GeV in steps of 1 GeV\n",
    "p = np.arange(1000, 75000, 1000)\n",
    "\n",
    "# Plot the ring radius for the e/pi/mu/K/p masses\n",
    "plt.plot(p, ring_radius(p, constants.electron_mass), label=\"$e^\\pm$\")\n",
    "plt.plot(p, ring_radius(p, constants.muon_mass), label=\"$\\mu^\\pm$\")\n",
    "plt.plot(p, ring_radius(p, constants.pion_charged_mass), label=\"$\\pi^\\pm$\")\n",
    "plt.plot(p, ring_radius(p, constants.kaon_charged_mass), label=\"$K^\\pm$\")\n",
    "plt.plot(p, ring_radius(p, constants.proton_mass), label=\"$p^\\pm$\")\n",
    "_ = plt.legend(loc=\"lower right\")"
   ]
  },
  {
   "cell_type": "markdown",
   "id": "f8ec5a46-c7b8-4378-9699-d7284d8a20ee",
   "metadata": {},
   "source": [
    "If your function is correctly written, you can observe that the curves for the $e^\\pm, \\mu^\\pm, \\pi^\\pm$ fit perfectly the three main curves that we ca observe in the data.\n",
    "The kaon theoretical curve is also present, but we do not see a corresponding data curve. If we had a lot more data and were not preselecting for you some specific decay channels, we could observe a light kaon curve as well.\n",
    "\n",
    "For the proton on the other hand, you do not even see the theoretical curve. Why do you think that is?\n",
    "<details>\n",
    "<summary>Click here to show the answer</summary>\n",
    "The Cherenkov radiation has a cutoff value. The particle $\\beta$ should be higher than $\\beta_{th} = 1/n$. In the case of a proton below 75 GeV, we have $\\beta < p/E = p/\\sqrt{m^2 + p^2} = 0.999922$, which is smaller than $\\beta_{th} = 1/n = 0.999937$.\n",
    "Therefore, the proton at any reachable NA62 energy does not produce Cherenkov light in the NA62 RICH.\n",
    "</details>"
   ]
  },
  {
   "cell_type": "markdown",
   "id": "4c6250bb-21b9-43a8-b397-b7bf9e196461",
   "metadata": {},
   "source": [
    "Another thing you can observe on the plot is that while your theoretical lines are very thin, the data curves actually have a certain width. This corresponds to the angular resolution and impedes somewhat our ability to distinguish properly between particles. You can see that up to ~30 GeV we can reasonably well separate the particles by eye. Between 30 GeV and 40 GeV this is becoming a little bit more complicated and we can expect already some occasional mixing between the different curves, resulting in wrong particle identification. Above 40 GeV the curves are completely degenerate and we have completely lost PID capabilities."
   ]
  },
  {
   "cell_type": "markdown",
   "id": "e2d1b384-699e-499c-a310-ebdc5ba510a4",
   "metadata": {},
   "source": [
    "The simplest PID algorithm using the RICH is to identify rings of hits on the RICH and for each of these rings measure the radius. Knowing the momentum of the particle and the curves above, we can then assign an hypothesis to the ring.\n",
    "\n",
    "In practice it is more complicated:\n",
    " - The rings are made of only a few hits (11 hits on average). Instead of a clean, nice ring we may therefore have only a partial ring. This complicates both identification of a ring, and the measurement.\n",
    " - We need to take into account the resolution on the ring radius\n",
    " - If we have multiple particles passing through the RICH, this will leave multiple rings, leading to two main complications\n",
    "   - The ring identification is more difficult as we have multiple overlapping partial rings\n",
    "   - Even having identified the ring and the radius correctly, to which of the track do we assign each ring?\n",
    "  \n",
    "We have developed more complicated algorithms based on likelihood computations. The algorithm are quite long and complicated, relying also on the computation of the expected position of the ring extrapolated from other detectors. The data provided here do not allow to run such complex algorithms. Just remember that the `rich_hypothesis` variable that we are looking at is in fact the result of this likelihood algorithm."
   ]
  },
  {
   "cell_type": "markdown",
   "id": "32264d3f-32ec-4f0d-ad18-169126b379ac",
   "metadata": {},
   "source": [
    "Let's confirm below that the `rich_hypothesis` corresponds to the ring radius curves."
   ]
  },
  {
   "cell_type": "code",
   "execution_count": null,
   "id": "111c4146-7a8c-49a4-b114-8c1ced80392a",
   "metadata": {},
   "outputs": [],
   "source": [
    "# Isolate the three types of tracks\n",
    "mu_tracks = all_tracks.loc[all_tracks[\"rich_hypothesis\"]==constants.rich_hypothesis_map[\"mu\"]]\n",
    "e_tracks = all_tracks.loc[all_tracks[\"rich_hypothesis\"]==constants.rich_hypothesis_map[\"e\"]]\n",
    "pi_tracks = all_tracks.loc[all_tracks[\"rich_hypothesis\"]==constants.rich_hypothesis_map[\"pi\"]]\n",
    "\n",
    "# Prepare three plots\n",
    "fig, ax = plt.subplots(1, 3, figsize=(21,5))\n",
    "\n",
    "# Plot the muon tracks curve\n",
    "ax[0].hist2d(mu_tracks[\"momentum_mag\"], mu_tracks[\"rich_radius\"], cmin=1, bins=(250,200), range=((0,75000),(0,200)), norm=mpl.colors.LogNorm())\n",
    "ax[0].plot(p, ring_radius(p, constants.muon_mass), color=\"red\")\n",
    "ax[0].set_title(\"Ring radius vs. momentum ($\\mu^\\pm$ tracks)\") \n",
    "ax[0].set_xlabel(\"p [MeV]\")\n",
    "ax[0].set_ylabel(\"Ring radius [mm]\")\n",
    "\n",
    "# Plot the electron track curve\n",
    "ax[1].hist2d(e_tracks[\"momentum_mag\"], e_tracks[\"rich_radius\"], cmin=1, bins=(250,200), range=((0,75000),(0,200)), norm=mpl.colors.LogNorm())\n",
    "ax[1].plot(p, ring_radius(p, constants.electron_mass), color=\"red\")\n",
    "ax[1].set_title(\"Ring radius vs. momentum ($e^\\pm$ tracks)\") \n",
    "ax[1].set_xlabel(\"p [MeV]\")\n",
    "ax[1].set_ylabel(\"Ring radius [mm]\")\n",
    "\n",
    "# Plot the pion track curve\n",
    "ax[2].hist2d(pi_tracks[\"momentum_mag\"], pi_tracks[\"rich_radius\"], cmin=1, bins=(250,200), range=((0,75000),(0,200)), norm=mpl.colors.LogNorm())\n",
    "ax[2].plot(p, ring_radius(p, constants.pion_charged_mass), color=\"red\")\n",
    "ax[2].set_title(\"Ring radius vs. momentum ($\\pi^\\pm$ tracks)\") \n",
    "ax[2].set_xlabel(\"p [MeV]\")\n",
    "_ = ax[2].set_ylabel(\"Ring radius [mm]\")"
   ]
  },
  {
   "cell_type": "markdown",
   "id": "81ea0bc9-98b9-432e-b613-353ae9088170",
   "metadata": {},
   "source": [
    "This looks good, aside from some discontinuity in the electron curve around 35 GeV where we start to loose separation power."
   ]
  },
  {
   "cell_type": "markdown",
   "id": "63812a9c-f136-4743-bb30-b6e2b8399f0e",
   "metadata": {},
   "source": [
    "## MUV3-based PID"
   ]
  },
  {
   "cell_type": "markdown",
   "id": "0bb8a4d3-c146-4f7d-9193-2b1d6008fe7f",
   "metadata": {},
   "source": [
    "The MUV3 detector is composed of scintillator tiles located being a thick iron wall. As a result all particles except muons are expected to be absorbed by the wall and only muons will be detected in the MUV3 detector. While this provides no ability to distinguish between electron and pions, this provides an excellent efficiency at identifying muons just by checking if a signal is observed on the detector at the location expected by simple extrapolation of the track position.\n",
    "\n",
    "This is simply provided through the `has_muv3` variable. We can select all tracks having MUV3 association and check the RICH hypothesis for those track to confirm the compatibility between the two PID methods."
   ]
  },
  {
   "cell_type": "code",
   "execution_count": null,
   "id": "3571e90e-e639-4235-bdb9-bbdbcb7a7ba0",
   "metadata": {},
   "outputs": [],
   "source": [
    "# TODO\n",
    "# Extrapolate the tracks on the MUV3 positions to see the cracks. If possible measure the efficiency on MUV3 (should use maybe kmu2 sample for that)"
   ]
  },
 ],
 "metadata": {
  "kernelspec": {
   "display_name": "Python 3 (ipykernel)",
   "language": "python",
   "name": "python3"
  },
  "language_info": {
   "codemirror_mode": {
    "name": "ipython",
    "version": 3
   },
   "file_extension": ".py",
   "mimetype": "text/x-python",
   "name": "python",
   "nbconvert_exporter": "python",
   "pygments_lexer": "ipython3",
   "version": "3.11.4"
  }
 },
 "nbformat": 4,
 "nbformat_minor": 5
}
