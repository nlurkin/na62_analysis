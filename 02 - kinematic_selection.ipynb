{
 "cells": [
  {
   "cell_type": "markdown",
   "id": "cc6fe9a6-2645-40a0-ac3a-be3052f27ae1",
   "metadata": {},
   "source": [
    "# Understanding the data and kinematic techniques\n",
    "\n",
    "This notebook demonstrates the usage of the package over the simplified NA62 data format, using pandas dataframes. Kinematic techniques are used to perform kinematic selections. Through this you will understand how to use them and what powerful information they can provide. Through this we will also expose the meaning of some of the variables that are still mysterious  at this point.\n",
    "\n",
    "The na62 python package provides convenience functions in several modules as a good starting point:\n",
    " - prepare.py: This module provides functionalities to read the data from root files and produce a pandas dataframe that can be used for the analysis\n",
    " - extract.py: This module provides functionalities to extract some parts of the dataframe to manipulate them more easily (e.g. track, clusters\n",
    " - hlf.py: This module provides functions high level to compute higher level information for the event (e.g. total momentum, invariant mass, total LKr energy, ...). This is mostly an implementation of the exercises of the previous notebook.\n",
    " - constants.py: This module provides some useful constants (particle masses, detector geometry, ...)\n",
    " - stats.py: This module provides more advanced statistical functions (fitting, ...)"
   ]
  },
  {
   "cell_type": "markdown",
   "id": "5a1eaee0-b77b-46f7-88e5-f0fa6ae6ad09",
   "metadata": {},
   "source": [
    "# Understanding the data"
   ]
  },
  {
   "cell_type": "code",
   "execution_count": null,
   "id": "f7c63107-f520-4d6f-9a3c-f33d8f40f1b3",
   "metadata": {},
   "outputs": [],
   "source": [
    "# Lets first import all we need\n",
    "import uproot\n",
    "import pandas as pd\n",
    "import numpy as np\n",
    "import matplotlib.pyplot as plt\n",
    "from na62 import prepare, hlf, extract, constants, stats"
   ]
  },
  {
   "cell_type": "code",
   "execution_count": null,
   "id": "66593475-d389-4d7d-9c99-d50732c2cc27",
   "metadata": {},
   "outputs": [],
   "source": [
    "# Then we read the data. This will give us a dataframe which contains the data from all the root files we provided\n",
    "data, _ = prepare.import_root_files([\"data/run12450.root\"])"
   ]
  },
  {
   "cell_type": "code",
   "execution_count": null,
   "id": "5dd5cb00-8bc6-45aa-a493-766038ae22fc",
   "metadata": {},
   "outputs": [],
   "source": [
    "# As a reminder from the previous notebook, display all the variables that are available to perform the analysis\n",
    "data.info()"
   ]
  },
  {
   "cell_type": "markdown",
   "id": "3f906c7a-a056-4f99-915a-0c66df05ae5a",
   "metadata": {},
   "source": [
    "For more information about the data structure and the meaning of the variables, please have a look at the explanations provided in the \"data_manipulation\" notebook.\n",
    "\n",
    "Here we are going to focus on the `event_type` and `[name]_rich_hypothesis` variables that were previously mentioned. Let's look at those variables in more details:"
   ]
  },
  {
   "cell_type": "code",
   "execution_count": null,
   "id": "a67e9248-5070-4264-b255-fc2ed6742152",
   "metadata": {},
   "outputs": [],
   "source": [
    "# Print the fraction of events for each possible values of those variables\n",
    "print(data[\"event_type\"].value_counts().sort_index()/len(data))\n",
    "all_tracks = extract.all_tracks(data)\n",
    "print(all_tracks[\"rich_hypothesis\"].value_counts().sort_index()/len(all_tracks))"
   ]
  },
  {
   "cell_type": "markdown",
   "id": "94d85d0b-f033-4e42-afee-7cd5cc4d1597",
   "metadata": {},
   "source": [
    "As can be seen above, the event_type variable can take integer value from 1 to 6, and the rich_hypothesis variable can take values from 0 to 4 and 99. However the meaning of those values are not provided and we need to find this by ourselves.\n",
    "\n",
    "The data above contains some of the most common decay channels of the kaon. You can see a list of properties and decay channels for the charged kaon at https://pdglive.lbl.gov/Particle.action?init=0&node=S010&home=MXXX020\n",
    "\n",
    "The decays with higher BR are (ordered by BR)\n",
    " - $K^+\\to\\mu^+\\nu$  (kmu2): 63.56%\n",
    " - $K^+\\to\\pi^+\\pi^0$  (k2pi): 20.67%\n",
    " - $K^+\\to\\pi^+\\pi^+\\pi^-$  (k3pi): 5.583%\n",
    " - $K^+\\to\\pi^0 e^+\\nu$  (ke3): 5.07%\n",
    " - $K^+\\to\\pi^0\\mu^+\\nu$  (kmu3): 3.352%\n",
    "\n",
    "The topology of these decays in NA62 can described as below:\n",
    " - The most common decay mode by far is the kmu2 decay. This decay is observed in the detector as a beam kaon and a single track left by the muon while the neutrino is invisible in the detector.  \n",
    " - Second we have the k2pi decay, which is also observed as a single track. But the $\\pi^0$, which has a very small lifetime, decays on the stop primarily into two photons (98.8% BR). We should therefore detect in addition two photon clusters on the LKr whose invariant mass is the one of the $\\pi^0$, with the assumption that they come from the same vertex as the charged pion track.\n",
    " - Following at lower BR is the k3pi decay. It is observed as three tracks in the detector, all coming from a common vertex.\n",
    " - The ke3 and kmu3 decays have a much lower BR than k2pi, but with a similar topology: one charged track and two photon clusters with the $\\pi^0$ invariant mass. The only difference between the tracks are their nature, which can be reasonably well disentangled using particle identification (PID) techniques."
   ]
  },
  {
   "cell_type": "markdown",
   "id": "51f3c11b-eba3-42a2-8a3c-06aafe4d31a4",
   "metadata": {},
   "source": [
    "## Particle identification (PID) techniques\n",
    "\n",
    "In NA62, PID is performed primarily with three detectors:\n",
    " - RICH, providing good separation between $e^\\pm/\\pi^\\pm/\\mu^\\pm$ in the momentum range $15~\\text{GeV} < p < 40~\\text{GeV}$ (using measured radius from Cherenkov radiations in Neon)\n",
    " - LKr, providing a excellent electromagnetic calorimetric energy measurement. We can use the E/p measurement to provide a good distinction between $e^+/\\pi^+$, knowing that electrons leave all their energy in the LKr (most of the time). While $\\pi^+$ most of the time leave only a fraction of their energy, and $\\mu^\\pm$ being minimum ionizing particles (MIPs) at these energies leave almost no energy.\n",
    " - MUV3, a scintillator-based detector located behind an iron wall, will see only signal from $\\mu^\\pm$, other particles ($\\pi^\\pm$ mostly at this point) will be entirely stopped in the iron wall.\n",
    "\n",
    "MUV3 and LKr data are present in the dataframe and directly usable. As mentionned above, only the RICH hypothesis is left to understand in order to complete our PID capabilities."
   ]
  },
  {
   "cell_type": "markdown",
   "id": "58bb0ad6-1051-45ad-b3cf-68041c1727ea",
   "metadata": {},
   "source": [
    "We can remember that the data available here contain mostly the five decay channels mentionned above. All other decay channels have such a small BR that we can expect at most a few events and we will therefore not be able to conclude anything from that at this point. Knowing this, we can start by creating **kinematic** selections (i.e. relying only on kinematic variables such as momentum, energy and combinations of those) to isolate a reasonably clean sample of the above decay channels. Once we have those samples, looking at the `event_type` and `rich_hypothesis` variables, we should be able to create a proper mapping for those values.\n",
    "\n",
    "For the reason mentioned above, whenever we look at the `rich_hypothesis` variable in the following, we will limit ourselves to track in the momentum range $15~\\text{GeV} < p < 40~\\text{GeV}$"
   ]
  },
  {
   "cell_type": "markdown",
   "id": "694a70e1-bb89-4176-827d-91710493cc65",
   "metadata": {},
   "source": [
    "## Kinematic selections\n",
    "\n",
    "### Single track selection\n",
    "Let's start then by selecting all events with a single track topology, and no isolated energy deposits on the LKr. This would correspond uniquely to the kmu2 channel, all others will have either additional tracks, or photon clusters on the LKr"
   ]
  },
  {
   "cell_type": "code",
   "execution_count": null,
   "id": "d9533db0-aa62-40c0-a7ff-07f6582ff1ee",
   "metadata": {},
   "outputs": [],
   "source": [
    "# Choose events where track1 exists but track2, track3 and cluster1 and cluster2 do not exist\n",
    "single_track = data.loc[data[\"track1_exists\"] & ~data[\"track2_exists\"] & ~data[\"track3_exists\"] & ~data[\"cluster1_exists\"] & ~data[\"cluster2_exists\"]]"
   ]
  },
  {
   "cell_type": "markdown",
   "id": "cedaa0a3-aa5f-4992-a419-f0263e4e7e5f",
   "metadata": {},
   "source": [
    "Let's look at the values of our two variables again for those events:"
   ]
  },
  {
   "cell_type": "code",
   "execution_count": null,
   "id": "ef639aa0-9e4f-413a-8603-01cfad4bbe15",
   "metadata": {},
   "outputs": [],
   "source": [
    "# Print the fraction of events for each possible values of those variables\n",
    "print(single_track[\"event_type\"].value_counts().sort_index()/len(single_track))\n",
    "all_tracks = extract.all_tracks(single_track)\n",
    "all_tracks = all_tracks.loc[(all_tracks[\"momentum_mag\"]<40000) & (all_tracks[\"momentum_mag\"]>15000)]\n",
    "print(all_tracks[\"rich_hypothesis\"].value_counts().sort_index()/len(all_tracks))"
   ]
  },
  {
   "cell_type": "markdown",
   "id": "8a79236a-286c-4cb1-95c5-347928b2d40d",
   "metadata": {},
   "source": [
    "We now have a much clearer picture. For single track events, which we know are entirely dominated by the kmu2 decay:\n",
    " - `event_type`: the value is in majority '3' (98%, from 78% in the complete dataset), with a very small contribution from '6'. We can therefore conclude that `event_type==3 -> kmu2`\n",
    " - `rich_hypothesis`: the value is in majority '2' (94%, from 59% in the complete dataset), with some contamination in all other categories. Again we can conclude that `rich_hypothesis==2 -> muon`"
   ]
  },
  {
   "cell_type": "markdown",
   "id": "c1f77ebc-7641-4a91-bfb2-938003987285",
   "metadata": {},
   "source": [
    "### Three-track selection\n",
    "The next event type which can be easily distinguished in our sample is the k3pi, the only one with three tracks. Let's repeat what we've done with kmu2, but with 3-track events."
   ]
  },
  {
   "cell_type": "code",
   "execution_count": null,
   "id": "1fee5ec7-f667-4831-a77a-a961b3217438",
   "metadata": {},
   "outputs": [],
   "source": [
    "# Choose events where track1, track2 and track3 exist, but cluster1 and cluster2 do not exist\n",
    "three_track = data.loc[data[\"track1_exists\"] & data[\"track2_exists\"] & data[\"track3_exists\"] & ~data[\"cluster1_exists\"] & ~data[\"cluster2_exists\"]]"
   ]
  },
  {
   "cell_type": "markdown",
   "id": "b2d6a8b8-0f3c-4c67-bf90-507d43c2efd3",
   "metadata": {},
   "source": [
    "And let's look at the values of our two variables for these events:"
   ]
  },
  {
   "cell_type": "code",
   "execution_count": null,
   "id": "4cbb9457-b932-41d0-85c3-d99de0356be8",
   "metadata": {},
   "outputs": [],
   "source": [
    "# Print the fraction of events for each possible values of those variables\n",
    "print(three_track[\"event_type\"].value_counts().sort_index()/len(three_track))\n",
    "all_tracks = extract.all_tracks(three_track)\n",
    "all_tracks = all_tracks.loc[(all_tracks[\"momentum_mag\"]<40000) & (all_tracks[\"momentum_mag\"]>15000)]\n",
    "print(all_tracks[\"rich_hypothesis\"].value_counts().sort_index()/len(all_tracks))"
   ]
  },
  {
   "cell_type": "markdown",
   "id": "140fb825-268e-4a84-96c0-e7d309a9430f",
   "metadata": {},
   "source": [
    "This time, being entirely dominated by k3pi decays:\n",
    " - `event_type`: the value is dominated by '1' (almost 100%, from only 4% in the complete dataset), with a very small contribution from '6'. We can therefore conclude that `event_type==1 -> k3pi`\n",
    " - `rich_hypothesis`: the majority of events are in the category '3' (81%) but with a large contribution from category '2' relative to the others (which we now know are muons). We should try to understand later why we have this muon contribution, but for now we can conclude that `rich_hypothesis==3 -> charged pion`"
   ]
  },
  {
   "cell_type": "markdown",
   "id": "7277837d-34b2-470b-9a7c-1c3fd8838149",
   "metadata": {},
   "source": [
    "### Single-track with two clusters selection\n",
    "To conclude this first study, we will select single-track events accompanied by two clusters of energy on the LKr. We know these include k2pi, kmu3 and ke3. As we want to use here a kinematic selection only, we will not be using any PID technique to distinguish between the three decays. Instead we will be relying on combination of the momenta and energies to reconstruct higher level variables (total momentum, missing mass, invariant mass)."
   ]
  },
  {
   "cell_type": "code",
   "execution_count": null,
   "id": "a2bb7caf-07d7-4888-b394-15ce2eb1f04b",
   "metadata": {},
   "outputs": [],
   "source": [
    "# Choose events where track1, cluster1 and cluster2 exist, but track2 and track3 do not exist\n",
    "single_track_w_clusters = data.loc[data[\"track1_exists\"] & ~data[\"track2_exists\"] & ~data[\"track3_exists\"] & data[\"cluster1_exists\"] & data[\"cluster2_exists\"]]"
   ]
  },
  {
   "cell_type": "markdown",
   "id": "e35d815b-b994-42ba-b160-e708487ead8b",
   "metadata": {},
   "source": [
    "Let's first have a look at the total reconstructed momentum (including the track momentum and the momentum of the two alleged photons that left the clusters, assuming they come from the same vertex)"
   ]
  },
  {
   "cell_type": "code",
   "execution_count": null,
   "id": "ca36e097-cf69-43b5-a91f-c190fb2ebdc6",
   "metadata": {},
   "outputs": [],
   "source": [
    "# Prepare two figures\n",
    "fig, ax = plt.subplots(1,2, figsize=(14,5))\n",
    "\n",
    "# Plot the total momentum in log scale\n",
    "total_momentum = hlf.total_momentum(single_track_w_clusters)\n",
    "total_momentum.hist(bins=200, range=(0, 100000), ax=ax[0])\n",
    "ax[0].set_title(\"Total momentum\")\n",
    "ax[0].set_yscale(\"log\")\n",
    "ax[0].set_xlabel(\"$p_{tot}$ [MeV/$c$]\")\n",
    "\n",
    "# And perform a gaussian fit of the total momentum\n",
    "fit_result = stats.perform_fit(total_momentum, bins=100, \n",
    "                               display_range=(65000, 85000), fit_range=(70000, 80000), \n",
    "                               ax=ax[1], model_wrapper=stats.gaussian_wrapper)\n",
    "ax[1].set_title(\"Total momentum (zoom)\")\n",
    "ax[1].set_xlabel(\"$p_{tot}$ [MeV/$c$]\")\n",
    "print(fit_result.fit_report())"
   ]
  },
  {
   "cell_type": "markdown",
   "id": "ad0337ef-b585-43e5-99cc-a0ca3a4d9409",
   "metadata": {},
   "source": [
    "As can be seen above, the total momentum spreads from about 20 GeV up to 100 GeV. However we can observe a big peak at 75 GeV, which is the momentum of the initial kaon from the beam. Of all the single-track and two cluster decays that we are looking at, we can notice that only the k2pi is a closed decay (i.e. all decay products are observed, with no neutrino escaping the detector). In this case we expect that the total reconstructed momentum is indeed the same as the initial kaon. In the other cases, a part of the momentum is taken away by the neutrino. We can conclude that the big peak we see is due mostly to the contribution from the k2pi decay, with the remaining non-peaking contribution due to the kmu3 and ke3 decays. We can use this to try to separate k3pi from the two other decays.\n",
    "\n",
    "Please note also that we performed a gaussian fit of the peaking contribution at 75 GeV, which resulted in a sigma of about 1.1 GeV. Below we are therefore separate our 1-track-2-clusters events into two categories:\n",
    " - closed kinematics: total momentum within 3 sigmas of 75 GeV\n",
    " - opened kinematics: total momentum outside 5 sigmas of 75 GeV (to make sure we reject all the k2pi in the peak)"
   ]
  },
  {
   "cell_type": "markdown",
   "id": "7731d522-25a9-4049-a7c3-4c07d2c89e4d",
   "metadata": {},
   "source": [
    "#### Closed category"
   ]
  },
  {
   "cell_type": "code",
   "execution_count": null,
   "id": "cfa8d339-100e-45ef-b420-c7dba081f1b2",
   "metadata": {},
   "outputs": [],
   "source": [
    "p_center = 75000\n",
    "p_sigma = 1100\n",
    "in_peak = (total_momentum>(p_center-3*p_sigma)) & (total_momentum<(p_center+3*p_sigma))\n",
    "closed = single_track_w_clusters.loc[in_peak]\n",
    "track1 = extract.track(closed, 1)\n",
    "g2 = extract.photon_momentum(closed, 1)\n",
    "g1 = extract.photon_momentum(closed, 2)\n",
    "hlf.set_mass(track1, constants.pion_charged_mass)\n",
    "hlf.set_mass(g1, constants.photon_mass)\n",
    "hlf.set_mass(g2, constants.photon_mass)\n",
    "inv_mass = hlf.invariant_mass([track1, g1, g2])\n",
    "inv_mass.hist(bins=100, range=(400, 600))\n",
    "plt.title(\"Invariant mass for closed topology\")\n",
    "plt.xlabel(\"$m_{inv}$ [MeV/$c^2$]\")\n",
    "print(f\"Average invariant mass: {inv_mass.mean():.2f} MeV/c^2\")"
   ]
  },
  {
   "cell_type": "markdown",
   "id": "7e2a0952-0d69-4527-aab4-9b3daaa4814b",
   "metadata": {},
   "source": [
    "We have here a very clear sign of a k2pi decay: total reconstructed momentum similar to the beam momentum, and a peak in the invariant mass (assuming the track being a charged pion) at ~493 GeV which corresponds to the mass of the charged kaon.\n",
    "\n",
    "Again, let's look at our two variables for this sample"
   ]
  },
  {
   "cell_type": "code",
   "execution_count": null,
   "id": "97af0415-e53e-4848-b16a-64b9e0b322c3",
   "metadata": {},
   "outputs": [],
   "source": [
    "# Print the fraction of events for each possible values of those variables\n",
    "print(closed[\"event_type\"].value_counts().sort_index()/len(closed))\n",
    "all_tracks = extract.all_tracks(closed)\n",
    "all_tracks = all_tracks.loc[(all_tracks[\"momentum_mag\"]<40000) & (all_tracks[\"momentum_mag\"]>15000)]\n",
    "print(all_tracks[\"rich_hypothesis\"].value_counts().sort_index()/len(all_tracks))"
   ]
  },
  {
   "cell_type": "markdown",
   "id": "9da8335b-aad3-4119-b0d0-fa5a6c7f84b8",
   "metadata": {},
   "source": [
    "We can draw the following conclusions:\n",
    " - `event_type`: the value is dominated by '4' (almost 100%, from only 13% in the complete dataset), with a very small contribution from '6'. We can therefore conclude that `event_type==4 -> k2pi`\n",
    " - `rich_hypothesis`: the picture is even clearer than with the k3pi. We are very much dominated by the category '3' (94%) with small contribution from category '2' (which we now know are muons) and even smaller from the other categories. We strengthen our conclusion that `rich_hypothesis==3 -> charged pion`"
   ]
  },
  {
   "cell_type": "markdown",
   "id": "e06c4864-945b-4395-9a15-ef5145f932c3",
   "metadata": {},
   "source": [
    "We will conclude this study by separating the remaining contributions from k3pi and kmu3 in the \"opened\" sample."
   ]
  },
  {
   "cell_type": "code",
   "execution_count": null,
   "id": "e6102bf2-817e-43ae-9fc2-263805c0b18a",
   "metadata": {},
   "outputs": [],
   "source": [
    "# Select the \"opened\" sample = not 5sigma-closed\n",
    "out_peak = ~((total_momentum>(p_center-5*p_sigma)) & (total_momentum<(p_center+5*p_sigma)))\n",
    "opened = single_track_w_clusters.loc[out_peak]"
   ]
  },
  {
   "cell_type": "markdown",
   "id": "1c525e98-ea0c-4ade-adb5-48c620a5b396",
   "metadata": {},
   "source": [
    "However in this case computing the invariant mass will lead to similar result as for the total momentum: a continuous, non-peaking, distribution of event as the neutrino still takes away some of the energy. In the case of open decays, a better way is to look at the missing mass squared, which is computed as $m_\\text{miss}^2 = p_\\text{miss}^2 = (p_K - \\sum{p_i})^2$ where $p_K$ is the beam 4-momentum and $p_i$ are the 4-momenta of the detected decay products. To have a better intuition looking at this variable, we can also look at the missing mass (square root of the missing mass squared) however with the additional complication that $m_\\text{miss}^2$ can be negative. The square root for negative values is not well defined and results in complex number. Conventions could be to show then the absolute value (real part) of the mass (folding the negative part of the plot onto the positive part), or by convention to take the absolute value and keep the sign of the squared missing mass. This is the convention we are using in this code."
   ]
  },
  {
   "cell_type": "markdown",
   "id": "d3399bcb-2154-47d1-a8f7-1343dd8719b2",
   "metadata": {},
   "source": [
    "Only to prove the principle, we can first have a look at the missing mass squared for the k2pi decay where we consider only the charged track."
   ]
  },
  {
   "cell_type": "code",
   "execution_count": null,
   "id": "6bc85cf5-dd68-4a65-8d5c-f5bd4a38679a",
   "metadata": {},
   "outputs": [],
   "source": [
    "# Extract the beam momentum\n",
    "beam = extract.get_beam(closed)\n",
    "hlf.set_mass(beam, constants.kaon_charged_mass)\n",
    "\n",
    "# Prepare two figures for missing mass squared and missing mass\n",
    "fig, ax = plt.subplots(1,2, figsize=(14,5))\n",
    "\n",
    "# Compute and plot\n",
    "mmass_sq = hlf.missing_mass_sqr(beam, [track1])\n",
    "mmass_sq.hist(bins=100, range=(-10000, 40000), ax=ax[0])\n",
    "ax[0].set_xlabel(\"$m_{miss}^2$ [MeV$^2/c^4$]\")\n",
    "ax[0].set_title(\"$m_{miss}^2=(p_{beam}-p_{track})^2$ for 'closed' sample, assuming $\\pi^\\pm$ mass\")\n",
    "mmass = hlf.missing_mass(beam, [track1])\n",
    "mmass.hist(bins=100, range=(0,250), ax=ax[1])\n",
    "ax[1].set_xlabel(\"$m_{miss}$ [MeV$/c^2$]\")\n",
    "ax[1].set_title(\"$m_{miss}=|p_{beam}-p_{track}|$ for 'closed' sample, assuming $\\pi^\\pm$ mass\")\n",
    "print(f\"Median missing mass: {mmass.median():.2f} MeV/c^2\")"
   ]
  },
  {
   "cell_type": "markdown",
   "id": "c82fa670-2180-410a-a6ad-5c392571fd99",
   "metadata": {},
   "source": [
    "As you can see the missing mass peaks very neatly at ~134.8 MeV/$c^2$ which is very close to the $\\pi^0$ mass (134.9768 MeV/$c^2$). Since the kaon decays into a $\\pi^+$ and a $\\pi^0$ and we neglect the $\\pi^0$ in this missing mass computation, we expect to find exactly the $\\pi^0$ mass.\n",
    "\n",
    "On the other hand, if we do the same thing and choose a wrong mass for our track (let's assume it is a positron instead of a pion), this will look very different."
   ]
  },
  {
   "cell_type": "code",
   "execution_count": null,
   "id": "4586adfb-86d4-43e8-b80a-cbc85f5d3dc3",
   "metadata": {},
   "outputs": [],
   "source": [
    "# Prepare two figures for missing mass squared and missing mass\n",
    "fig, ax = plt.subplots(1,2, figsize=(14,5))\n",
    "\n",
    "# Change the mass assumption for the track\n",
    "hlf.set_mass(track1, constants.electron_mass)\n",
    "\n",
    "# Compute and plot\n",
    "mmass_sq = hlf.missing_mass_sqr(beam, [track1])\n",
    "mmass_sq.hist(bins=100, range=(-10000, 150000), ax=ax[0])\n",
    "ax[0].set_xlabel(\"$m_{miss}^2$ [MeV$^2/c^4$]\")\n",
    "ax[0].set_title(\"$m_{miss}^2=(p_{beam}-p_{track})^2$ for 'closed' sample, assuming $e^\\pm$ mass\")\n",
    "mmass = hlf.missing_mass(beam, [track1])\n",
    "mmass.hist(bins=100, range=(0,400), ax=ax[1])\n",
    "ax[1].set_xlabel(\"$m_{miss}$ [MeV$/c^2$]\")\n",
    "ax[1].set_title(\"$m_{miss}=|p_{beam}-p_{track}|$ for 'closed' sample, assuming $e^\\pm$ mass\")\n",
    "print(f\"Median missing mass: {mmass.median():.2f} MeV/c^2\")"
   ]
  },
  {
   "cell_type": "markdown",
   "id": "ce79905f-ead4-4ef0-9b97-df1a0a1517af",
   "metadata": {},
   "source": [
    "As you can see, doing the wrong assumption we loose our nice peaking distribution and it is now much more spread. Also the maximum is now around ~210 MeV/$c^2$ which does not correspond to any particle. This proves that the technique is valid and provide a sort of \"confirmation\" of the mass assumption. It can also be used to separate samples with multiple decays (e.g. kmu3 and ke3) by making one assumption and selecting the peaking component. This is what we will do next.\n",
    "\n",
    "#### Opened category\n",
    "Let's go now to our \"opened\" sample and assume either the muon, or positron mass for the track, and taking into account the photons."
   ]
  },
  {
   "cell_type": "code",
   "execution_count": null,
   "id": "d2554d8b-0a55-496d-9528-ffba19e3dbf9",
   "metadata": {},
   "outputs": [],
   "source": [
    "# Extract the beam momentum\n",
    "beam = extract.get_beam(opened)\n",
    "hlf.set_mass(beam, constants.kaon_charged_mass)\n",
    "\n",
    "# Extract the tracks and photons\n",
    "track1 = extract.track(opened, 1)\n",
    "g2 = extract.photon_momentum(opened, 1)\n",
    "g1 = extract.photon_momentum(opened, 2)\n",
    "hlf.set_mass(g1, constants.photon_mass)\n",
    "hlf.set_mass(g2, constants.photon_mass)\n",
    "\n",
    "# Prepare two plots\n",
    "fig, ax = plt.subplots(1,2, figsize=(14,5))\n",
    "\n",
    "# Compute and plot the missing mass squared in the electron hypothesis\n",
    "hlf.set_mass(track1, constants.electron_mass)\n",
    "mmass_sqr_e = hlf.missing_mass_sqr(beam, [track1, g1, g2])\n",
    "mmass_sqr_e.hist(bins=100, range=(-50000, 50000), ax=ax[0])\n",
    "ax[0].set_xlabel(\"$m_{miss}^2$ [MeV$^2/c^4$]\")\n",
    "ax[0].set_title(\"$m_{miss}^2=(p_{beam}-p_{track} - p_{g1} - p_{g2})^2$ \\nfor 'opened' sample, assuming $e^\\pm$ mass\")\n",
    "\n",
    "# Compute and plot the missing mass squared in the muon hypothesis\n",
    "hlf.set_mass(track1, constants.muon_mass)\n",
    "mmass_sqr_mu = hlf.missing_mass_sqr(beam, [track1, g1, g2])\n",
    "mmass_sqr_mu.hist(bins=100, range=(-50000, 50000), ax=ax[1])\n",
    "ax[1].set_xlabel(\"$m_{miss}^2$ [MeV$^2/c^4$]\")\n",
    "_ = ax[1].set_title(\"$m_{miss}^2=(p_{beam}-p_{track} - p_{g1} - p_{g2})^2$ \\nfor 'opened' sample, assuming $\\mu^\\pm$ mass\")"
   ]
  },
  {
   "cell_type": "markdown",
   "id": "ce065856-080a-4bcb-adeb-426d7c21a85e",
   "metadata": {},
   "source": [
    "We would expect to see a sharp peak at 0 for the events with the correct mass assumption and a wider distribution for the events with the wrong assumption. It appears however that the two distributions are not well resolved and pile-up on top of each other. We can nethertheless notice that for the positron assumption, the wide distribution is located only on the positive side of the $m_\\text{miss}^2$, and inversely for the muon assumption. We can therefore still try to separate both by selecting only the events that are in each peak.\n",
    "\n",
    "First let's find out a rough value for the resolution on $m_\\text{miss}^2$ for $m_\\text{miss}^2=0$. We can perform a gaussian fit with a strongly reduced range on the side of the extended distribution. This trick relies on the symmetry of a gaussian curve around it's mean, and the fact that we do not appear to have any contribution from the wrong mass assumption on one side of the peak. \n",
    "The peak resolution does not depend on the channel so we will get the same result from the ke3 or the kmu3 channel and we can choose whichever we want. Let's use the muon and fit in the range (-4000, 10000), which seems to visually contain the whole gaussian tail on the right, and just enough of the peak on the left to identify the mean."
   ]
  },
  {
   "cell_type": "code",
   "execution_count": null,
   "id": "cfd31bb9-bbe2-466a-9922-43bdd98cb3f5",
   "metadata": {},
   "outputs": [],
   "source": [
    "out = stats.perform_fit(mmass_sqr_mu, bins=100, display_range=(-50000, 50000), fit_range=(-4000, 10000), \n",
    "                        plot=True, model_wrapper=stats.gaussian_wrapper)\n",
    "print(out.fit_report())"
   ]
  },
  {
   "cell_type": "markdown",
   "id": "a4cdc64a-9383-4c25-b594-986483deef27",
   "metadata": {},
   "source": [
    "We obtain through this fit a resolution of approximately $\\sigma_\\text{mm2}=$3000 MeV$^2/c^4$. \n",
    "\n",
    "We will use this value to complete our selection:\n",
    " - For the ke3 selection, we select all events which are within $3\\sigma_\\text{mm2}$ of the peak in the positron hypothesis and outside of $5\\sigma_\\text{mm2}$ of the peak in the muon hypothesis\n",
    " - Inversey for the kmu3 selection, we select all events which are within $3\\sigma_\\text{mm2}$ of the peak in the muon hypothesis and outside of $5\\sigma_\\text{mm2}$ of the peak in the positron hypothesis\n",
    "\n",
    "In this way we ensure that all events we select belong to only one of the category, at the price of a some loss of acceptance. But we do not care about acceptance at this point."
   ]
  },
  {
   "cell_type": "code",
   "execution_count": null,
   "id": "44c9cc8b-7d79-4b25-90ee-d5f9867644e1",
   "metadata": {},
   "outputs": [],
   "source": [
    "# Define the peak mean and sigma\n",
    "mm2_mean = 0\n",
    "mm2_sigma = 3000\n",
    "\n",
    "# Define the \"in_peak\" and \"out_peak\" conditions\n",
    "in_ke3_peak = (mmass_sqr_e<(mm2_mean+3*mm2_sigma)) & (mmass_sqr_e>(mm2_mean-3*mm2_sigma))\n",
    "out_ke3_peak = (mmass_sqr_e>(mm2_mean+5*mm2_sigma)) | (mmass_sqr_e<(mm2_mean-5*mm2_sigma))\n",
    "in_kmu3_peak = (mmass_sqr_mu<(mm2_mean+3*mm2_sigma)) & (mmass_sqr_mu>(mm2_mean-3*mm2_sigma))\n",
    "out_kmu3_peak = (mmass_sqr_mu>(mm2_mean+5*mm2_sigma)) | (mmass_sqr_mu<(mm2_mean-5*mm2_sigma))\n",
    "\n",
    "# Select our alleged ke3 and kmu3 events\n",
    "ke3_events = opened.loc[in_ke3_peak & out_kmu3_peak]\n",
    "kmu3_events = opened.loc[in_kmu3_peak & out_ke3_peak]\n",
    "\n",
    "# Prepare two plots\n",
    "fig, ax = plt.subplots(1, 2, figsize=(14, 5))\n",
    "\n",
    "# Plot the missing mass squared for ke3 events in the positron mass hypothesis\n",
    "beam = hlf.set_mass(extract.get_beam(ke3_events), constants.kaon_charged_mass)\n",
    "track = hlf.set_mass(extract.track(ke3_events, 1), constants.electron_mass)\n",
    "g1 = hlf.set_mass(extract.photon_momentum(ke3_events, 1), constants.photon_mass)\n",
    "g2 = hlf.set_mass(extract.photon_momentum(ke3_events, 2), constants.photon_mass)\n",
    "mmass_sqr_ke3 = hlf.missing_mass_sqr(beam, [track, g1, g2])\n",
    "mmass_sqr_ke3.hist(bins=100, range=(-50000, 50000), ax=ax[0])\n",
    "ax[0].set_xlabel(\"$m_{miss}^2$ [MeV$^2/c^4$]\")\n",
    "ax[0].set_title(\"$m_{miss}^2=(p_{beam}-p_{track} - p_{g1} - p_{g2})^2$ \\nfor 'ke3' sample, assuming $e^\\pm$ mass\")\n",
    "\n",
    "# Plot the missing mass squared for kmu3 events in the muon mass hypothesis\n",
    "beam = hlf.set_mass(extract.get_beam(kmu3_events), constants.kaon_charged_mass)\n",
    "track = hlf.set_mass(extract.track(kmu3_events, 1), constants.muon_mass)\n",
    "g1 = hlf.set_mass(extract.photon_momentum(kmu3_events, 1), constants.photon_mass)\n",
    "g2 = hlf.set_mass(extract.photon_momentum(kmu3_events, 2), constants.photon_mass)\n",
    "mmass_sqr_kmu3 = hlf.missing_mass_sqr(beam, [track, g1, g2])\n",
    "mmass_sqr_kmu3.hist(bins=100, range=(-50000, 50000), ax=ax[1])\n",
    "ax[1].set_xlabel(\"$m_{miss}^2$ [MeV$^2/c^4$]\")\n",
    "_ = ax[1].set_title(\"$m_{miss}^2=(p_{beam}-p_{track} - p_{g1} - p_{g2})^2$ \\nfor 'kmu3' sample, assuming $\\mu^\\pm$ mass\")"
   ]
  },
  {
   "cell_type": "markdown",
   "id": "0722cba3-4c5e-4ce9-ad08-ded0b3db5b11",
   "metadata": {},
   "source": [
    "After this final selection step, let's look at our two variables again, first for the kmu3 sample:"
   ]
  },
  {
   "cell_type": "code",
   "execution_count": null,
   "id": "9d506d98-7b1c-415b-8614-e8af82639106",
   "metadata": {},
   "outputs": [],
   "source": [
    "# Print the fraction of events for each possible values of those variables\n",
    "print(kmu3_events[\"event_type\"].value_counts().sort_index()/len(kmu3_events))\n",
    "all_tracks = extract.all_tracks(kmu3_events)\n",
    "all_tracks = all_tracks.loc[(all_tracks[\"momentum_mag\"]<40000) & (all_tracks[\"momentum_mag\"]>15000)]\n",
    "print(all_tracks[\"rich_hypothesis\"].value_counts().sort_index()/len(all_tracks))"
   ]
  },
  {
   "cell_type": "markdown",
   "id": "9da70444-f4df-42f5-84de-cfecf4892ea1",
   "metadata": {},
   "source": [
    "The picture is relatively clear:\n",
    " - `event_type`: the value is dominated by '5' (almost 100%, from only 2% in the complete dataset), with a very small contribution from other decays. We can therefore conclude that `event_type==5 -> kmu3`\n",
    " - `rich_hypothesis`: the category '2' is the major contribution (98%). This is consistent with our previous conclusions (twice already) that `rich_hypothesis==2 -> muon`\n",
    "\n",
    "Doing the same for the ke3 sample:"
   ]
  },
  {
   "cell_type": "code",
   "execution_count": null,
   "id": "35197cbb-4754-4c35-85b9-850eda355738",
   "metadata": {},
   "outputs": [],
   "source": [
    "# Print the fraction of events for each possible values of those variables\n",
    "print(ke3_events[\"event_type\"].value_counts().sort_index()/len(ke3_events))\n",
    "all_tracks = extract.all_tracks(ke3_events)\n",
    "all_tracks = all_tracks.loc[(all_tracks[\"momentum_mag\"]<40000) & (all_tracks[\"momentum_mag\"]>15000)]\n",
    "print(all_tracks[\"rich_hypothesis\"].value_counts().sort_index()/len(all_tracks))"
   ]
  },
  {
   "cell_type": "markdown",
   "id": "9bcc5a37-88d3-4845-82a6-7ccbc4ad311a",
   "metadata": {},
   "source": [
    "We have:\n",
    " - `event_type`: the value is dominated by '2' (almost 100%, from only 2% in the complete dataset), with a very small contribution from '5' (the kmu3). We can conclude that `event_type==2 -> ke3`\n",
    " - `rich_hypothesis`: the category '1' is 98% of the contribution with negligible contrubutions from the other categories. We conclude that `rich_hypothesis==1 -> electron/positron`"
   ]
  },
  {
   "cell_type": "markdown",
   "id": "98c9a2a1-99b5-47a9-84f4-ea7f3021d397",
   "metadata": {},
   "source": [
    "### Summary\n",
    "We have used above only kinematic arguments to isolate samples of our five major kaon decay channels. We have not computed the acceptance (fraction of signal events selected with respect to number of signal events present in the sample) nor the purity (1-fraction of selected background events) of our sample, but we can assume that this kind of selection does not yield the best results as we are not exploiting all the capabilities of our detector. This was nevertheless good enough to have sufficiently clear samples which allowed us to draw conclusions on the `event_type` and `rich_hypothesis` variables.\n",
    "\n",
    "Concerning the event_type, we have a total of six categories, but only five main decay channels. In fact the category '6' appears in all the samples we have isolated. We will consider this as unidentified background. In fact in the data that are made available for you, this category '6' are \"autopass\" events, meaning events that are randomly selected amongst those not belonging to any of the other categories.\n",
    "\n",
    "For the `rich_hypothesis`, the dataset provided would not allow us to determine what are the meaning of the values '0', '4', and '99' and furthemore you will likely have no use for these categories in the rest of this exercise so they are given to you. A `rich_hypothesis` of '0' represent \"background\", i.e. some signal in the detector that is not necessarily related to any particle passing through the detector (e.g. electronic noise) or when we are not able to determine reliably another category (for example if the particle is outside the useful momentum range). A value of '4' indicates a particle that is identified as a $K^\\pm$. In fact you can run the next cell to see that out of the few tracks that are present in the category '4' have mostly of momentum of 75 GeV/$c$, and probably correspond to beam kaon that are accidentaly associated to a vertex. Finally the category '99' correspond to signal where multiple tracks are on top of each other, rendering the identification impossible.\n",
    "\n",
    "Let's summarize these conclusions:\n",
    " - `event_type`:\n",
    "   - 1: $K^+\\to\\pi^+\\pi^+\\pi^-$ (k3pi)\n",
    "   - 2: $K^+\\to\\pi^0 e^+\\nu$ (ke3)\n",
    "   - 3: $K^+\\to\\mu^+\\nu$ (kmu2)\n",
    "   - 4: $K^+\\to\\pi^+\\pi^0$ (k2pi)\n",
    "   - 5: $K^+\\to\\pi^0\\mu^+\\nu$ (kmu3)\n",
    "   - 6: background (autopass)\n",
    " - `rich_hypothesis`:\n",
    "   - 0: background\n",
    "   - 1: $e^\\pm$\n",
    "   - 2: $\\mu^\\pm$\n",
    "   - 3: $\\pi^\\pm$\n",
    "   - 4: $K^\\pm$\n",
    "   - 99: Multiple"
   ]
  }
 ],
 "metadata": {
  "kernelspec": {
   "display_name": "Python 3 (ipykernel)",
   "language": "python",
   "name": "python3"
  },
  "language_info": {
   "codemirror_mode": {
    "name": "ipython",
    "version": 3
   },
   "file_extension": ".py",
   "mimetype": "text/x-python",
   "name": "python",
   "nbconvert_exporter": "python",
   "pygments_lexer": "ipython3",
   "version": "3.11.4"
  }
 },
 "nbformat": 4,
 "nbformat_minor": 5
}
