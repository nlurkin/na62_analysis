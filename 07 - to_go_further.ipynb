{
 "cells": [
  {
   "cell_type": "markdown",
   "id": "7d3a2d1d-e303-406c-a899-58ff314d63ef",
   "metadata": {},
   "source": [
    "# To Go Further\n",
    "\n",
    "We have done already a quite extensive analysis of the data that were presented here. But as final measurement, we have only looked at the normalization channel and the BR of Ke3. We have may other channels that we can use and perform a measurement. Other less straighforward measurements are possible also, like searching for peaks in a continuous mass distributions (for BSM particles for instance) or performing differential measurements.\n",
    "\n",
    "You are free to continue further by improving the selections presented in the notebooks, or develop new selections for some of the channels that were not used in the final measurement, etc."
   ]
  }
 ],
 "metadata": {
  "kernelspec": {
   "display_name": "Python 3 (ipykernel)",
   "language": "python",
   "name": "python3"
  },
  "language_info": {
   "codemirror_mode": {
    "name": "ipython",
    "version": 3
   },
   "file_extension": ".py",
   "mimetype": "text/x-python",
   "name": "python",
   "nbconvert_exporter": "python",
   "pygments_lexer": "ipython3",
   "version": "3.11.4"
  }
 },
 "nbformat": 4,
 "nbformat_minor": 5
}
