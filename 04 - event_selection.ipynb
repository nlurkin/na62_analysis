{
 "cells": [
  {
   "cell_type": "code",
   "execution_count": null,
   "id": "0b23d1a3-55a9-4ee4-9407-f6c7133e0c60",
   "metadata": {},
   "outputs": [],
   "source": [
    "%load_ext autoreload\n",
    "%autoreload 2"
   ]
  },
  {
   "cell_type": "code",
   "execution_count": 2,
   "id": "a423f944-3cc0-48cf-b6c1-424b1f370b98",
   "metadata": {},
   "outputs": [],
   "source": [
    "# Lets first import all we need\n",
    "import uproot\n",
    "import pandas as pd\n",
    "import numpy as np\n",
    "import matplotlib.pyplot as plt\n",
    "import matplotlib as mpl\n",
    "from na62 import prepare, hlf, extract, constants, stats, histo"
   ]
  },
  {
   "cell_type": "code",
   "execution_count": 3,
   "id": "a6c9e721-dda2-45b9-8013-87e3575accf8",
   "metadata": {},
   "outputs": [],
   "source": [
    "data = prepare.import_root_files([\"data/run12450.root\"])\n",
    "k2pi = prepare.import_root_files([\"data/k2pi.root\"], total_limit=1000000)\n",
    "k3pi = prepare.import_root_files([\"data/k3pi.root\"], total_limit=1000000)\n",
    "kmu2 = prepare.import_root_files([\"data/kmu2.root\"], total_limit=1000000)\n",
    "kmu3 = prepare.import_root_files([\"data/kmu3.root\"], total_limit=1000000)\n",
    "ke3 = prepare.import_root_files([\"data/ke3.root\"], total_limit=1000000)"
   ]
  },
  {
   "cell_type": "code",
   "execution_count": null,
   "id": "955091f1-0513-48f3-804b-9b3e02939947",
   "metadata": {},
   "outputs": [],
   "source": []
  }
 ],
 "metadata": {
  "kernelspec": {
   "display_name": "Python 3 (ipykernel)",
   "language": "python",
   "name": "python3"
  },
  "language_info": {
   "codemirror_mode": {
    "name": "ipython",
    "version": 3
   },
   "file_extension": ".py",
   "mimetype": "text/x-python",
   "name": "python",
   "nbconvert_exporter": "python",
   "pygments_lexer": "ipython3",
   "version": "3.11.4"
  }
 },
 "nbformat": 4,
 "nbformat_minor": 5
}
