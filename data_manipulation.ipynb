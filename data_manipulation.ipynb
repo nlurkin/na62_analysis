{
 "cells": [
  {
   "cell_type": "markdown",
   "id": "54ae88dd-2c88-419c-b904-af99c67fdd09",
   "metadata": {},
   "source": [
    "# Data manipulation\n",
    "\n",
    "This notebook will give some explanations about the NA62 data that are made available for you and explain how to read and use them to perform later some basic data analysis. Low level functionalities to help you use pandas dataframes are provided and we will guide you through providing higher level functionalies based on particle physics (manipulation of 3-and-4-momenta, invariant masses, ...)"
   ]
  },
  {
   "cell_type": "markdown",
   "id": "08aba1e7-86cf-42ee-97fe-f93c7254411e",
   "metadata": {},
   "source": [
    "Let's start by loading a little bit of data and look at the variables that are provided."
   ]
  },
  {
   "cell_type": "code",
   "execution_count": 2,
   "id": "240b4f08-55f1-4340-81f8-23963fe7ad15",
   "metadata": {},
   "outputs": [],
   "source": [
    "# Import useful packages\n",
    "import pandas as pd\n",
    "import numpy as np\n",
    "from na62 import prepare\n",
    "from typing import List, Union"
   ]
  },
  {
   "cell_type": "code",
   "execution_count": null,
   "id": "ef9119ce-23a4-4f8e-82c6-a125944d375b",
   "metadata": {},
   "outputs": [],
   "source": [
    "# Then load some data (just 10 events)\n",
    "data = prepare.import_root_files([\"run12450.root.10631\"], total_limit=10)\n",
    "data"
   ]
  },
  {
   "cell_type": "markdown",
   "id": "c76a86a9-c60b-41de-b1cd-56f65c352f61",
   "metadata": {},
   "source": [
    "We can see here 10 events, which contain many variables. Let's look more in details at the variables\n",
    "## Information about the data structure"
   ]
  },
  {
   "cell_type": "code",
   "execution_count": null,
   "id": "0f900c4b-76c7-4417-99a5-a93b1ac67829",
   "metadata": {},
   "outputs": [],
   "source": [
    "# This prints information about the dataframe structure\n",
    "data.info()"
   ]
  },
  {
   "cell_type": "markdown",
   "id": "9adab123-f0a7-48ed-ac00-c13dbada3c5b",
   "metadata": {},
   "source": [
    "The command above give us the full list of variables with their respective data type. \n",
    "\n",
    "Vectors are important variables. The flat datastructure cannot contain a vector object, so it is spread in the structure accross the four variables `[name]_direction{x,y,z}, [name]_momentum_mag` containing respectively the direction and the magnitude of the momentum (the direction vector is a unit vector i.e. with magnitude 1). `[name]` indicates the objects to which the momentum refers.\n",
    "As can be seen above, the data structure contains information about:\n",
    " - The event: run number, burst number, event_time. Those three values allow us to uniquely identify an event in the NA62 data. No two events will share the same triplet of values.\n",
    " - The beam: momentum, position at z=102.4m\n",
    " - Placeholder for three tracks (track1, track2, track3): for each of the track, a variable indicate if the track exists for the event. If the track exists, the information is filled about its momentum, time and charge, whether the track has associated MUV3 signal, RICH information (hypothesis, ring radius, position and number of hits), and the associated LKr energy. For convenience the EoP (energy over momentum) is already calculated and stored.\n",
    " - Similar placeholder for up to two clusters (cluster1, cluster2). If present, those clusters of energy on the LKr are not associated to one of the tracks, and the variables giving information about its energy, position on LKr front plane (na62.constants.lkr_position), and time are filled.\n",
    "\n",
    "In addition each event was pre-identified and the variable `event_type` indicate which kaon decay channel was detected. Similarly for the `[name]_rich_hypothesis` variables indicating which is the most likely particle that was measured as a track.\n",
    "\n",
    "These are the basic information that are reconstructed from (part) of the NA62 detector, and that will be enough for the kind of analysis that we want to do here. However we need to be able to combine these informations according to mathematical and physical principles that you know. The dataframe does not provide such facility so you have to develop that yourself as an exercises."
   ]
  },
  {
   "cell_type": "markdown",
   "id": "f6bdb256-d6db-41b8-aa88-2274913680b3",
   "metadata": {},
   "source": [
    "# Exercises\n",
    "Each exercise will ask you to implement some function to manipulate the data. The input/output of the functions are well determined. You will be able to pass each function to a test suite that will let you know if the implementation is correct.\n",
    "The test suite is available through the tests module of the na62 package.\n",
    "\n",
    "# Three-vector operations\n",
    "The first functions that will needed and that are not provided by the dataframe are vector operations (sum, product, magnitude). We ask you to fill the functions below to provide these functionalities.\n",
    "\n",
    "You can assume that the dataframes passed as arguments (as a list or single dataframe, depending on the function) contain the following variables to be used: `direction_{x,y,z}`, `momentum_mag`"
   ]
  },
  {
   "cell_type": "code",
   "execution_count": 16,
   "id": "3c2357ec-2557-4567-9088-077f412cc9ea",
   "metadata": {},
   "outputs": [],
   "source": [
    "def three_vector_sum(vectors: List[pd.DataFrame]) -> pd.DataFrame:\n",
    "    # Check that there are any vectors to sum\n",
    "    if len(vectors) == 0:\n",
    "        return pd.Series()\n",
    "\n",
    "    # [FILL HERE]\n",
    "    # The code below should perform the sum of all three vectors and return \n",
    "    # a new dataframe containing the summed vector using the same format \n",
    "    # as the input (the variables \"direction_x\", \"direction_y\", \"direction_z\", \"momentum_mag\"\n",
    "    # Make sure that the direction vector is a unit vector\n",
    "\n",
    "    return # [SOMETHING]\n",
    "\n",
    "\n",
    "def three_vector_mag(vector: pd.DataFrame) -> pd.Series:\n",
    "    # [FILL HERE]\n",
    "    # Return the magnitue of the three vector\n",
    "\n",
    "    return # [SOMETHING]"
   ]
  },
  {
   "cell_type": "code",
   "execution_count": null,
   "id": "535abe81-ca5b-4acb-a31b-f080e8eb1bee",
   "metadata": {},
   "outputs": [],
   "source": [
    "# Perform the tests\n",
    "from na62.tests.test_vectors import Test_ThreeVector\n",
    "Test_ThreeVector().run_tests(three_vector_sum, three_vector_mag)"
   ]
  }
 ],
 "metadata": {
  "kernelspec": {
   "display_name": "Python 3 (ipykernel)",
   "language": "python",
   "name": "python3"
  },
  "language_info": {
   "codemirror_mode": {
    "name": "ipython",
    "version": 3
   },
   "file_extension": ".py",
   "mimetype": "text/x-python",
   "name": "python",
   "nbconvert_exporter": "python",
   "pygments_lexer": "ipython3",
   "version": "3.11.4"
  }
 },
 "nbformat": 4,
 "nbformat_minor": 5
}
