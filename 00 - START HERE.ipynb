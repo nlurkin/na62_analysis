{
 "cells": [
  {
   "cell_type": "markdown",
   "id": "004d25f7-3a76-4fc0-9a84-3151351d7a9b",
   "metadata": {},
   "source": [
    "# START HERE\n",
    "This is the first step. If you are reading this in jupyter, that should at least be installed correctly.\n",
    "This tutorial is made of several notebooks which will gently guide you through understanding the data that are provided to you, developing some useful data analysis techniques, and perform a data analysis."
   ]
  },
  {
   "cell_type": "markdown",
   "id": "c219fc2c-194e-4e5a-b519-be915021e8b7",
   "metadata": {},
   "source": [
    "The available notebooks are:\n",
    " - [01 - data_manipulation.ipynb](./01%20-%20data_manipulation.ipynb): This notebook will explain what data are available and their format. There are some exercises to implement some higher level functions that will help you to manipulate them.\n",
    " - [02 - kinematic_selection.ipynb](./02%20-%20kinematic_selection.ipynb): Once the barrier of the data format passed, this will guide you through writing some simple selection based on kinematics only, to identify and understand more about the physics of the available data. \n",
    " - [03 - pid.ipynb](./03%20-%20pid.ipynb): This notebook is dedicated to Particle Identification (PID) techniques. How they are performed in the specific case of NA62 and what are their limitation. This will be useful for later.\n",
    " - [04 - event_selection.ipynb](./04%20-%20event_selection.ipynb): This notebook is dedicated to Particle Identification (PID) techniques. How they are performed in the specific case of NA62 and what are their limitation. This will be useful for later.\n",
    " - [0x - timing.ipynb](./0x%20-%20timing.ipynb): TODO\n",
    " - [0y - resolution.ipynb](./0y%20-%20resolution.ipynb): TODO"
   ]
  }
 ],
 "metadata": {
  "kernelspec": {
   "display_name": "Python 3 (ipykernel)",
   "language": "python",
   "name": "python3"
  },
  "language_info": {
   "codemirror_mode": {
    "name": "ipython",
    "version": 3
   },
   "file_extension": ".py",
   "mimetype": "text/x-python",
   "name": "python",
   "nbconvert_exporter": "python",
   "pygments_lexer": "ipython3",
   "version": "3.11.4"
  }
 },
 "nbformat": 4,
 "nbformat_minor": 5
}
