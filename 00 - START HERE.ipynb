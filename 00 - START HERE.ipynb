{
 "cells": [
  {
   "cell_type": "markdown",
   "id": "004d25f7-3a76-4fc0-9a84-3151351d7a9b",
   "metadata": {},
   "source": [
    "# START HERE\n",
    "This is the first step. If you are reading this in jupyter, that should at least be installed correctly.\n",
    "This tutorial is made of several notebooks which will gently guide you through understanding the data that are provided to you, developing some useful data analysis techniques, and perform a data analysis."
   ]
  },
  {
   "cell_type": "markdown",
   "id": "c219fc2c-194e-4e5a-b519-be915021e8b7",
   "metadata": {},
   "source": [
    "The available notebooks are:\n",
    " - [01 - data_manipulation.ipynb](./01%20-%20data_manipulation.ipynb): This notebook will explain what data are available and their format. There are some exercises to implement some higher level functions that will help you to manipulate them.\n",
    " - [02 - kinematic_selection.ipynb](./02%20-%20kinematic_selection.ipynb): Once the barrier of the data format passed, this will guide you through writing some simple selection based on kinematics only, to identify and understand more about the physics of the available data. \n",
    " - [03 - pid.ipynb](./03%20-%20pid.ipynb): This notebook is dedicated to Particle Identification (PID) techniques. How they are performed in the specific case of NA62 and what are their limitation. This will be useful for later.\n",
    " - [04 - timing.ipynb](./04%20-%20timing.ipynb): This notebook will explain why timing is important in NA62 and how to use it based on empirical observations.\n",
    " - [05 - resolution.ipynb](./05%20-%20resolution.ipynb): This notebook is dedicated to checking the resolution of the measurements of two essential detectors: the LKr and the Straw.\n",
    " - [06 - event_selection.ipynb](./06%20-%20event_selection.ipynb): This notebook is dedicated to Particle Identification (PID) techniques. How they are performed in the specific case of NA62 and what are their limitation. This will be useful for later."
   ]
  },
  {
   "cell_type": "markdown",
   "id": "843b957c-7c1d-429d-9996-c3657fe1c501",
   "metadata": {},
   "source": [
    "A limited amount of data is made available directly through the git repository of this project (if you have setup `git-lfs` correctly). These are available in the **data** directory. They contain the data from one full run (12450, chosen at random) and a small MC simulated sample of each of the five main kaon decay modes (about 50 MB worth of events for each channel).\n",
    "\n",
    "In some of the exercises, and the final one, more statistics than what is available here is required. You will find a more complete sample of data on the [sharepoint of the course](https://uclouvain.sharepoint.com/:f:/s/O365G-LPHYS2233_NA62/ElCQK-vssOxAj-m9S7KcvsQBcpuWZ1Eqq7LliWjW0p4PeA?e=RxtlA3). For those exercises, please download the **Full_DataSample** and place it in the root directory of this project, with the name **Full_DataSample**.  \n",
    "*WARNING*: The full data sample is about 21 GB in size. Make sure you have a reliable connection while downloading. In case of troubles, consider downloading each subdirectory separately."
   ]
  }
 ],
 "metadata": {
  "kernelspec": {
   "display_name": "Python 3 (ipykernel)",
   "language": "python",
   "name": "python3"
  },
  "language_info": {
   "codemirror_mode": {
    "name": "ipython",
    "version": 3
   },
   "file_extension": ".py",
   "mimetype": "text/x-python",
   "name": "python",
   "nbconvert_exporter": "python",
   "pygments_lexer": "ipython3",
   "version": "3.11.4"
  }
 },
 "nbformat": 4,
 "nbformat_minor": 5
}
