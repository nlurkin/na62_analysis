{
 "cells": [
  {
   "cell_type": "markdown",
   "id": "54ae88dd-2c88-419c-b904-af99c67fdd09",
   "metadata": {},
   "source": [
    "# Data manipulation\n",
    "\n",
    "This notebook will give some explanations about the NA62 data that are made available for you and explain how to read and use them to perform later some basic data analysis. Low level functionalities to help you use pandas dataframes are provided and we will guide you through providing higher level functionalies based on particle physics (manipulation of 3-and-4-momenta, invariant masses, ...)"
   ]
  },
  {
   "cell_type": "markdown",
   "id": "08aba1e7-86cf-42ee-97fe-f93c7254411e",
   "metadata": {},
   "source": [
    "Let's start by loading a little bit of data and look at the variables that are provided."
   ]
  },
  {
   "cell_type": "code",
   "execution_count": null,
   "id": "240b4f08-55f1-4340-81f8-23963fe7ad15",
   "metadata": {},
   "outputs": [],
   "source": [
    "# Import useful packages\n",
    "import pandas as pd\n",
    "import numpy as np\n",
    "from na62 import prepare\n",
    "from typing import List, Union"
   ]
  },
  {
   "cell_type": "code",
   "execution_count": null,
   "id": "ef9119ce-23a4-4f8e-82c6-a125944d375b",
   "metadata": {},
   "outputs": [],
   "source": [
    "# Then load some data (just 10 events)\n",
    "data = prepare.import_root_files([\"run12450.root.184\"], total_limit=10)\n",
    "data"
   ]
  },
  {
   "cell_type": "markdown",
   "id": "c76a86a9-c60b-41de-b1cd-56f65c352f61",
   "metadata": {},
   "source": [
    "We can see here 10 events, which contain many variables. Let's look more in details at the variables\n",
    "## Information about the data structure"
   ]
  },
  {
   "cell_type": "code",
   "execution_count": null,
   "id": "0f900c4b-76c7-4417-99a5-a93b1ac67829",
   "metadata": {},
   "outputs": [],
   "source": [
    "# This prints information about the dataframe structure\n",
    "data.info()"
   ]
  },
  {
   "cell_type": "markdown",
   "id": "9adab123-f0a7-48ed-ac00-c13dbada3c5b",
   "metadata": {},
   "source": [
    "The command above give us the full list of variables with their respective data type. \n",
    "\n",
    "Vectors are important variables. The flat datastructure cannot contain a vector object, so it is spread in the structure accross the four variables `[name]_direction_{x,y,z}, [name]_momentum_mag` containing respectively the direction and the magnitude of the momentum (the direction vector is a unit vector i.e. with magnitude 1). `[name]` indicates the objects to which the momentum refers. We also have a vector direction `[name]_direction_am_{x,y,x}` corresponding to the direction after the spectrometer magnet. This last variable is valid for charged tracks only (deflected by the magnet) and can be used to extrapolate position for 'z' values located after the magnet.\n",
    "As can be seen above, the data structure contains information about:\n",
    " - The event: run number, burst number, event_time. Those three values allow us to uniquely identify an event in the NA62 data. No two events will share the same triplet of values.\n",
    " - The beam: momentum, position at z=102.4m\n",
    " - Placeholder for three tracks (track1, track2, track3): for each of the track, a variable indicate if the track exists for the event. If the track exists, the information is filled about its momentum, time and charge, whether the track has associated MUV3 signal, RICH information (hypothesis, ring radius, position and number of hits), and the associated LKr energy. For convenience the EoP (energy over momentum) is already calculated and stored.\n",
    " - Similar placeholder for up to two clusters (cluster1, cluster2). If present, those clusters of energy on the LKr are not associated to one of the tracks, and the variables giving information about its energy, position on LKr front plane (na62.constants.lkr_position), and time are filled.\n",
    "\n",
    "In addition each event was pre-identified and the variable `event_type` indicate which kaon decay channel was detected. Similarly for the `[name]_rich_hypothesis` variables indicating which is the most likely particle that was measured as a track.\n",
    "\n",
    "These are the basic information that are reconstructed from (part) of the NA62 detector, and that will be enough for the kind of analysis that we want to do here. However we need to be able to combine these informations according to mathematical and physical principles that you know. The dataframe does not provide such facility so you have to develop that yourself as an exercises."
   ]
  },
  {
   "cell_type": "markdown",
   "id": "f6bdb256-d6db-41b8-aa88-2274913680b3",
   "metadata": {},
   "source": [
    "# Exercises\n",
    "Each exercise will ask you to implement some function to manipulate the data. The input/output of the functions are well determined. You will be able to pass each function to a test suite that will let you know if the implementation is correct.\n",
    "The test suite is available through the tests module of the na62 package.\n",
    "\n",
    "## Three-vector operations\n",
    "The first functions that will needed and that are not provided by the dataframe are vector operations (sum, product, magnitude). We ask you to fill the functions below to provide these functionalities.\n",
    "\n",
    "You can assume that the dataframes passed as arguments (as a list or single dataframe, depending on the function) contain the following variables to be used: `direction_{x,y,z}`, `momentum_mag`"
   ]
  },
  {
   "cell_type": "code",
   "execution_count": null,
   "id": "3c2357ec-2557-4567-9088-077f412cc9ea",
   "metadata": {},
   "outputs": [],
   "source": [
    "def three_vector_sum(vectors: List[pd.DataFrame]) -> pd.DataFrame:\n",
    "    # Check that there are any vectors to sum\n",
    "    if len(vectors) == 0:\n",
    "        return pd.Series()\n",
    "\n",
    "    # [FILL HERE]\n",
    "    # The code below should perform the sum of all three-vectors and return \n",
    "    # a new dataframe containing the summed vector using the same format \n",
    "    # as the input (the variables \"direction_x\", \"direction_y\", \"direction_z\", \"momentum_mag\"\n",
    "    # Make sure that the direction vector is a unit vector\n",
    "\n",
    "    return # [SOMETHING]\n",
    "\n",
    "\n",
    "def three_vector_mag(vector: pd.DataFrame) -> pd.Series:\n",
    "    # [FILL HERE]\n",
    "    # Return the magnitude of the three-vector\n",
    "\n",
    "    return # [SOMETHING]\n",
    "\n",
    "\n",
    "def three_vector_invert(vector: pd.DataFrame) -> pd.DataFrame:\n",
    "    # [FILL HERE]\n",
    "    # The code below should return a new vector (with the same standard format)\n",
    "    # where all the coordinates are inverted (corresponding to the mathematical operation -1*vector)\n",
    "\n",
    "    return # [SOMETHING]"
   ]
  },
  {
   "cell_type": "code",
   "execution_count": null,
   "id": "535abe81-ca5b-4acb-a31b-f080e8eb1bee",
   "metadata": {},
   "outputs": [],
   "source": [
    "# Perform the tests\n",
    "from na62.tests.test_vectors import Test_ThreeVector\n",
    "Test_ThreeVector().run_tests(sum_function=three_vectors_sum, mag_function=three_vector_mag, invert_function=three_vector_invert)"
   ]
  },
  {
   "cell_type": "markdown",
   "id": "22381892-c722-4d81-8bbc-814e340a76cc",
   "metadata": {},
   "source": [
    "## Four-vector operations\n",
    "Next we want to operate on four-vectors. Please write below the functions providing the requested functionalities. You can make the same assumption as above for the input dataframes, and you can use the additional variable `energy` providing the four-vector energy."
   ]
  },
  {
   "cell_type": "code",
   "execution_count": null,
   "id": "64712453-5a5d-4c48-9086-425032d5dcd0",
   "metadata": {},
   "outputs": [],
   "source": [
    "def four_vectors_sum(vectors: List[pd.DataFrame]) -> pd.DataFrame:\n",
    "    # Check that there are any vectors to sum\n",
    "    if len(vectors) == 0:\n",
    "        return pd.Series()\n",
    "\n",
    "    # [FILL HERE]\n",
    "    # The code below should perform the sum of all four-vectors and return \n",
    "    # a new dataframe containing the summed vector using the same format \n",
    "    # as the input (the variables \"direction_x\", \"direction_y\", \"direction_z\", \"momentum_mag\", \"energy\"\n",
    "    # Make sure that the direction vector is a unit vector\n",
    "    # Hint: you can treat the 4-vector as a 3-vector + energy\n",
    "\n",
    "    return # [SOMETHING]\n",
    "\n",
    "def four_vector_mag2(vector: pd.DataFrame) -> pd.DataFrame:\n",
    "    # [FILL HERE]\n",
    "    # Return the magnitude squared of the four-vector\n",
    "    # Hint: you can again trat the 4-vector as a 3-vector + energy\n",
    "\n",
    "    return # [SOMETHING]\n",
    "\n",
    "def four_vector_mag(vector: pd.DataFrame) -> pd.DataFrame:\n",
    "    # [FILL HERE]\n",
    "    # Return the magnitude of the four-vector\n",
    "    # Hint: try to take the square root of the magnitude squared\n",
    "    # Convention: as the magnitude squared can be negative, we will \n",
    "    #  by convention define the square root of a negative magnitudes squared\n",
    "    #  to be the negative of the absolute value.\n",
    "\n",
    "    return # [SOMETHING]\n",
    "\n",
    "def four_vector_invert(vector: pd.DataFrame) -> pd.DataFrame:\n",
    "    # [FILL HERE]\n",
    "    # The code below should return a new vector (with the same standard format)\n",
    "    # where all the coordinates are inverted (corresponding to the mathematical operation -1*vector)\n",
    "\n",
    "    return # [SOMETHING]"
   ]
  },
  {
   "cell_type": "code",
   "execution_count": null,
   "id": "fae5f116-6311-4ccb-acbb-3355eb9b4b40",
   "metadata": {},
   "outputs": [],
   "source": [
    "# Perform the tests\n",
    "from na62.tests.test_vectors import Test_FourVector\n",
    "Test_FourVector().run_tests(sum_function=four_vector_sum, mag_function=four_vector_mag, mag2_function=four_vector_mag2, invert_function=four_vector_invert)"
   ]
  },
  {
   "cell_type": "markdown",
   "id": "b5291bb2-1381-4dd7-81b2-6b3b7cfcdee1",
   "metadata": {},
   "source": [
    "## Kinematic function\n",
    "\n",
    "Finally let's come to some useful kinematic functions based on the above operations. For all the momenta (either 3-momenta or 4-momenta) we can make the same assumptions as previously regarding the name of the variables. In addition we are providing already some function to extract the required tracks and photons from the complete dataframe. These parts of the code are already written for you, only the actual mathematical operations are left out.  \n",
    "Please complete the missing parts of the functions below and test them in the test suite."
   ]
  },
  {
   "cell_type": "code",
   "execution_count": null,
   "id": "5ce67a51-9250-4e97-853a-87838715b028",
   "metadata": {},
   "outputs": [],
   "source": [
    "from na62 import extract\n",
    "def invariant_mass(momenta: List[pd.DataFrame]) -> pd.Series:\n",
    "    # [FILL HERE]\n",
    "    # The code received a list of 4-momenta (according to the usual format already used above).\n",
    "    # Compute the invariant mass of the 4-momenta.\n",
    "    # Hint: use the 4-vector functions we wrote above\n",
    "\n",
    "    return # [SOMETHING]\n",
    "\n",
    "def total_momentum(df: pd.DataFrame) -> pd.Series:\n",
    "    # We receive the full data\n",
    "    # First extract all the tracks and clusters. We fill all the \"NA\" values with 0.\n",
    "    # In such a way, we do not need to care whether the track/cluster exist, \n",
    "    # it will only have a null contribution in the sum\n",
    "    t1 = extract.track(df, 1).fillna(0)\n",
    "    t2 = extract.track(df, 2).fillna(0)\n",
    "    t3 = extract.track(df, 3).fillna(0)\n",
    "    c1 = extract.photon_momentum(df, 1).fillna(0)\n",
    "    c2 = extract.photon_momentum(df, 2).fillna(0)\n",
    "\n",
    "    # [FILL HERE]\n",
    "    # Compute the magnitude of the total momentum (including tracks and clusters)\n",
    "    # Hint: use the 3-vector functions we wrote above\n",
    "    \n",
    "    return # [SOMETHING]\n",
    "\n",
    "\n",
    "def total_track_momentum(df: pd.DataFrame) -> pd.Series:\n",
    "    # We receive the full data\n",
    "    # First extract all the tracks. We fill all the \"NA\" values with 0.\n",
    "    # In such a way, we do not need to care whether the track exist, \n",
    "    # it will only have a null contribution in the sum\n",
    "    t1 = extract.track(df, 1).fillna(0)\n",
    "    t2 = extract.track(df, 2).fillna(0)\n",
    "    t3 = extract.track(df, 3).fillna(0)\n",
    "\n",
    "    # [FILL HERE]\n",
    "    # Compute the magnitude of the total momentum of the tracks\n",
    "    # Hint: use the 3-vector functions we wrote above\n",
    "\n",
    "    return # [SOMETHING]\n",
    "\n",
    "def missing_mass_sqr(beam: pd.DataFrame, momenta: List[pd.DataFrame]) -> pd.Series:\n",
    "    # [FILL HERE]\n",
    "    # Compute the missing mass squared defined as the squared magnitude of the 4-vector \"beam- sum(momenta)\"\n",
    "    # Hint: use the 4-vector functions we wrote above\n",
    "\n",
    "    return # [SOMETHING]\n",
    "\n",
    "def missing_mass(beam: pd.DataFrame, momenta: List[pd.DataFrame]) -> pd.Series:\n",
    "    # [FILL HERE]\n",
    "    # Compute the missing mass defined as the magnitude of the 4-vector \"beam- sum(momenta)\"\n",
    "    # Hint: use the 4-vector functions we wrote above\n",
    "\n",
    "    return # [SOMETHING]\n"
   ]
  },
  {
   "cell_type": "code",
   "execution_count": null,
   "id": "9a43efd1-d9e5-40ff-a0ba-cb6344788d53",
   "metadata": {},
   "outputs": [],
   "source": [
    "# Perform the tests\n",
    "from na62.tests.test_kinematics import TestKinematics\n",
    "TestKinematics().run_tests(inv_mass_fuction=invariant_mass, total_momentum_function=total_momentum, \n",
    "                           total_track_momentum_function=total_track_momentum, missing_mass_sqr_function=missing_mass_sqr, \n",
    "                           missing_mass_function=missing_mass)"
   ]
  },
  {
   "cell_type": "markdown",
   "id": "2d8bc418-2a32-42eb-9e0f-f4888bc06ece",
   "metadata": {},
   "source": [
    "### If you are really stuck, but don't give up to quickly"
   ]
  },
  {
   "cell_type": "markdown",
   "id": "d00a5742-7c59-4332-91b2-47d5f2da16b3",
   "metadata": {},
   "source": [
    "Uncomment and run the following cell to see the solution to the three-vector functions"
   ]
  },
  {
   "cell_type": "code",
   "execution_count": null,
   "id": "e792682b-3e0d-482d-9049-058a53d2a915",
   "metadata": {},
   "outputs": [],
   "source": [
    "# %load -s three_vectors_sum,three_vector_mag,three_vector_invert na62/hlf.py"
   ]
  },
  {
   "cell_type": "markdown",
   "id": "981fdd70-73e0-422f-9c3b-5787157ff0e8",
   "metadata": {},
   "source": [
    "Uncomment and run the following cell to see the solution to the four-vector functions"
   ]
  },
  {
   "cell_type": "code",
   "execution_count": null,
   "id": "e3746cb9-f2ab-44e0-b6a2-9406b816c5b1",
   "metadata": {},
   "outputs": [],
   "source": [
    "# %load -s four_vectors_sum,four_vector_mag2,four_vector_mag,four_vector_invert na62/hlf.py"
   ]
  },
  {
   "cell_type": "markdown",
   "id": "add0ee5d-34cf-43c7-af23-36e3c9366390",
   "metadata": {},
   "source": [
    "Uncomment and run the following cell to see the solution to the kinematic functions"
   ]
  },
  {
   "cell_type": "code",
   "execution_count": null,
   "id": "dcdb8c7d-f04a-4244-8dce-e1f02d7a5ee2",
   "metadata": {},
   "outputs": [],
   "source": [
    "# %load -s invariant_mass,total_momentum,total_track_momentum,missing_mass_sqr,missing_mass na62/hlf.py"
   ]
  }
 ],
 "metadata": {
  "kernelspec": {
   "display_name": "Python 3 (ipykernel)",
   "language": "python",
   "name": "python3"
  },
  "language_info": {
   "codemirror_mode": {
    "name": "ipython",
    "version": 3
   },
   "file_extension": ".py",
   "mimetype": "text/x-python",
   "name": "python",
   "nbconvert_exporter": "python",
   "pygments_lexer": "ipython3",
   "version": "3.11.4"
  }
 },
 "nbformat": 4,
 "nbformat_minor": 5
}
