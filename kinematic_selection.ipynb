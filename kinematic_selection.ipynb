{
 "cells": [
  {
   "cell_type": "markdown",
   "id": "cc6fe9a6-2645-40a0-ac3a-be3052f27ae1",
   "metadata": {},
   "source": [
    "# Understanding the data and kinematic techniques\n",
    "\n",
    "This notebook demonstrates the usage of the package over the simplified NA62 data format, using pandas dataframes. Kinematic techniques are used to perform kinematic selections. Through this you will understand how to use them and what powerful information they can provide. Through this we will also expose the meaning of some of the variables that are still mysterious  at this point.\n",
    "\n",
    "The na62 python package provides convenience functions in several modules as a good starting point:\n",
    " - prepare.py: This module provides functionalities to read the data from root files and produce a pandas dataframe that can be used for the analysis\n",
    " - extract.py: This module provides functionalities to extract some parts of the dataframe to manipulate them more easily (e.g. track, clusters\n",
    " - hlf.py: This module provides functions high level to compute higher level information for the event (e.g. total momentum, invariant mass, total LKr energy, ...). This is mostly an implementation of the exercises of the previous notebook.\n",
    " - constants.py: This module provides some useful constants (particle masses, detector geometry, ...)\n",
    " - stats.py: This module provides more advanced statistical functions (fitting, ...)"
   ]
  },
  {
   "cell_type": "markdown",
   "id": "5a1eaee0-b77b-46f7-88e5-f0fa6ae6ad09",
   "metadata": {},
   "source": [
    "# Understanding the data"
   ]
  },
  {
   "cell_type": "code",
   "execution_count": null,
   "id": "f7c63107-f520-4d6f-9a3c-f33d8f40f1b3",
   "metadata": {},
   "outputs": [],
   "source": [
    "# Lets first import all we need\n",
    "import uproot\n",
    "import pandas as pd\n",
    "import numpy as np\n",
    "import matplotlib.pyplot as plt\n",
    "from na62 import prepare, hlf, extract, constants, stats"
   ]
  },
  {
   "cell_type": "code",
   "execution_count": null,
   "id": "66593475-d389-4d7d-9c99-d50732c2cc27",
   "metadata": {},
   "outputs": [],
   "source": [
    "# Then we read the data. This will give us a dataframe which contains the data from all the root files we provided\n",
    "data = prepare.import_root_files([\"run12450.root.184\"])"
   ]
  },
  {
   "cell_type": "code",
   "execution_count": null,
   "id": "5dd5cb00-8bc6-45aa-a493-766038ae22fc",
   "metadata": {},
   "outputs": [],
   "source": [
    "# As a reminder from the previous notebook, display all the variables that are available to perform the analysis\n",
    "extract.list_variables(data)"
   ]
  },
  {
   "cell_type": "raw",
   "id": "35595683-4ebe-47c1-b2cc-c0419353a59a",
   "metadata": {},
   "source": [
    "For more information about the data structure and the meaning of the variables, please have a look at the explanations provided in the \"data_manipulation\" notebook.\n",
    "\n",
    "Here we are going to focus on the `event_type` and `[name]_rich_hypothesis` variables that were previously mentioned. Let's look at those variables in more details:"
   ]
  },
  {
   "cell_type": "code",
   "execution_count": null,
   "id": "a67e9248-5070-4264-b255-fc2ed6742152",
   "metadata": {},
   "outputs": [],
   "source": [
    "# Print the fraction of events for each possible values of those variables\n",
    "print(data[\"event_type\"].value_counts().sort_index()/len(data))\n",
    "all_tracks = extract.all_tracks(data)\n",
    "print(all_tracks[\"rich_hypothesis\"].value_counts().sort_index()/len(all_tracks))"
   ]
  },
  {
   "cell_type": "markdown",
   "id": "94d85d0b-f033-4e42-afee-7cd5cc4d1597",
   "metadata": {},
   "source": [
    "As can be seen above, the event_type variable can take integer value from 1 to 5, and the rich_hypothesis variable can take values from 0 to 4 and 99. However the meaning of those values are not provided and we need to find this by ourselves.\n",
    "\n",
    "The data above contains some of the most common decay channels of the kaon. You can see a list of properties and decay channels for the charged kaon at https://pdglive.lbl.gov/Particle.action?init=0&node=S010&home=MXXX020\n",
    "\n",
    "The decays with higher BR are (ordered by BR)\n",
    " - $K^+\\to\\mu^+\\nu$  (kmu2): 63.56%\n",
    " - $K^+\\to\\pi^+\\pi^0$  (k2pi): 20.67%\n",
    " - $K^+\\to\\pi^+\\pi^+\\pi^-$  (k3pi): 5.583%\n",
    " - $K^+\\to\\pi^0 e^+\\nu$  (ke3): 5.07%\n",
    " - $K^+\\to\\pi^0\\mu^+\\nu$  (kmu3): 3.352%\n",
    "\n",
    "The topology of these decays in NA62 can described as below:\n",
    " - The most common decay mode by far is the kmu2 decay. This decay is observed in the detector as a beam kaon and a single track left by the muon while the neutrino is invisible in the detector.  \n",
    " - Second we have the k2pi decay, which is also observed as a single track. But the $\\pi^0$, which has a very small lifetime, decays on the stop primarily into two photons (98.8% BR). We should therefore detect in addition two photon clusters on the LKr whose invariant mass is the one of the $\\pi^0$, with the assumption that they come from the same vertex as the charged pion track.\n",
    " - Following at lower BR is the k3pi decay. It is observed as three tracks in the detector, all coming from a common vertex.\n",
    " - The ke3 and kmu3 decays have a much lower BR than k2pi, but with a similar topology: one charged track and two photon clusters with the $\\pi^0$ invariant mass. The only difference between the tracks are their nature, which can be reasonably well disentangled using particle identification (PID) techniques."
   ]
  },
  {
   "cell_type": "markdown",
   "id": "51f3c11b-eba3-42a2-8a3c-06aafe4d31a4",
   "metadata": {},
   "source": [
    "## Particle identification (PID) techniques\n",
    "\n",
    "In NA62, PID is performed primarily with three detectors:\n",
    " - RICH, providing good separation between $e^\\pm/\\pi^\\pm/\\mu^\\pm$ in the momentum range $15~\\text{GeV} < p < 40~\\text{GeV}$ (using measured radius from Cherenkov radiations in Neon)\n",
    " - LKr, providing a excellent electromagnetic calorimetric energy measurement. We can use the E/p measurement to provide a good distinction between $e^+/\\pi^+$, knowing that electrons leave all their energy in the LKr (most of the time). While $\\pi^+$ most of the time leave only a fraction of their energy, and $\\mu^\\pm$ being minimum ionizing particles (MIPs) at these energies leave almost no energy.\n",
    " - MUV3, a scintillator-based detector located behind an iron wall, will see only signal from $\\mu^\\pm$, other particles ($\\pi^\\pm$ mostly at this point) will be entirely stopped in the iron wall.\n",
    "\n",
    "MUV3 and LKr data are present in the dataframe and directly usable. As mentionned above, only the RICH hypothesis is left to understand in order to complete our PID capabilities."
   ]
  },
  {
   "cell_type": "markdown",
   "id": "58bb0ad6-1051-45ad-b3cf-68041c1727ea",
   "metadata": {},
   "source": [
    "We can remember that the data available here contain mostly the five decay channels mentionned above. All other decay channels have such a small BR that we can expect at most a few events and we will therefore not be able to conclude anything from that at this point. Knowing this, we can start by creating **kinematic** selections (i.e. relying only on kinematic variables such as momentum, energy and combinations of those) to isolate a reasonably clean sample of the above decay channels. Once we have those samples, looking at the `event_type` and `rich_hypothesis` variables, we should be able to create a proper mapping for those values."
   ]
  },
 ],
 "metadata": {
  "kernelspec": {
   "display_name": "Python 3 (ipykernel)",
   "language": "python",
   "name": "python3"
  },
  "language_info": {
   "codemirror_mode": {
    "name": "ipython",
    "version": 3
   },
   "file_extension": ".py",
   "mimetype": "text/x-python",
   "name": "python",
   "nbconvert_exporter": "python",
   "pygments_lexer": "ipython3",
   "version": "3.11.4"
  }
 },
 "nbformat": 4,
 "nbformat_minor": 5
}
