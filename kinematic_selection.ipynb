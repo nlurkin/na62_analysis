{
 "cells": [
  {
   "cell_type": "markdown",
   "id": "cc6fe9a6-2645-40a0-ac3a-be3052f27ae1",
   "metadata": {},
   "source": [
    "# Understanding the data and kinematic techniques\n",
    "\n",
    "This notebook demonstrates the usage of the package over the simplified NA62 data format, using pandas dataframes. Kinematic techniques are used to perform kinematic selections. Through this you will understand how to use them and what powerful information they can provide. Through this we will also expose the meaning of some of the variables that are still mysterious  at this point.\n",
    "\n",
    "The na62 python package provides convenience functions in several modules as a good starting point:\n",
    " - prepare.py: This module provides functionalities to read the data from root files and produce a pandas dataframe that can be used for the analysis\n",
    " - extract.py: This module provides functionalities to extract some parts of the dataframe to manipulate them more easily (e.g. track, clusters\n",
    " - hlf.py: This module provides functions high level to compute higher level information for the event (e.g. total momentum, invariant mass, total LKr energy, ...). This is mostly an implementation of the exercises of the previous notebook.\n",
    " - constants.py: This module provides some useful constants (particle masses, detector geometry, ...)\n",
    " - stats.py: This module provides more advanced statistical functions (fitting, ...)"
   ]
  },
  {
   "cell_type": "markdown",
   "id": "5a1eaee0-b77b-46f7-88e5-f0fa6ae6ad09",
   "metadata": {},
   "source": [
    "# Understanding the data"
   ]
  },
  {
   "cell_type": "code",
   "execution_count": null,
   "id": "f7c63107-f520-4d6f-9a3c-f33d8f40f1b3",
   "metadata": {},
   "outputs": [],
   "source": [
    "# Lets first import all we need\n",
    "import uproot\n",
    "import pandas as pd\n",
    "import numpy as np\n",
    "import matplotlib.pyplot as plt\n",
    "from na62 import prepare, hlf, extract, constants, stats"
   ]
  },
  {
   "cell_type": "code",
   "execution_count": null,
   "id": "66593475-d389-4d7d-9c99-d50732c2cc27",
   "metadata": {},
   "outputs": [],
   "source": [
    "# Then we read the data. This will give us a dataframe which contains the data from all the root files we provided\n",
    "data = prepare.import_root_files([\"run12450.root.184\"])"
   ]
  },
  {
   "cell_type": "code",
   "execution_count": null,
   "id": "5dd5cb00-8bc6-45aa-a493-766038ae22fc",
   "metadata": {},
   "outputs": [],
   "source": [
    "# As a reminder from the previous notebook, display all the variables that are available to perform the analysis\n",
    "extract.list_variables(data)"
   ]
  },
  {
   "cell_type": "raw",
   "id": "35595683-4ebe-47c1-b2cc-c0419353a59a",
   "metadata": {},
   "source": [
    "For more information about the data structure and the meaning of the variables, please have a look at the explanations provided in the \"data_manipulation\" notebook.\n",
    "\n",
    "Here we are going to focus on the `event_type` and `[name]_rich_hypothesis` variables that were previously mentioned. Let's look at those variables in more details:"
   ]
  },
  {
   "cell_type": "code",
   "execution_count": null,
   "id": "a67e9248-5070-4264-b255-fc2ed6742152",
   "metadata": {},
   "outputs": [],
   "source": [
    "# Print the fraction of events for each possible values of those variables\n",
    "print(data[\"event_type\"].value_counts().sort_index()/len(data))\n",
    "all_tracks = extract.all_tracks(data)\n",
    "print(all_tracks[\"rich_hypothesis\"].value_counts().sort_index()/len(all_tracks))"
   ]
  },
  {
   "cell_type": "markdown",
   "id": "94d85d0b-f033-4e42-afee-7cd5cc4d1597",
   "metadata": {},
   "source": [
    "As can be seen above, the event_type variable can take integer value from 1 to 5, and the rich_hypothesis variable can take values from 0 to 4 and 99. However the meaning of those values are not provided and we need to find this by ourselves.\n",
    "\n",
    "The data above contains some of the most common decay channels of the kaon. You can see a list of properties and decay channels for the charged kaon at https://pdglive.lbl.gov/Particle.action?init=0&node=S010&home=MXXX020\n",
    "\n",
    "The decays with higher BR are (ordered by BR)\n",
    " - $K^+\\to\\mu^+\\nu$  (kmu2): 63.56%\n",
    " - $K^+\\to\\pi^+\\pi^0$  (k2pi): 20.67%\n",
    " - $K^+\\to\\pi^+\\pi^+\\pi^-$  (k3pi): 5.583%\n",
    " - $K^+\\to\\pi^0 e^+\\nu$  (ke3): 5.07%\n",
    " - $K^+\\to\\pi^0\\mu^+\\nu$  (kmu3): 3.352%\n",
    "\n",
    "The topology of these decays in NA62 can described as below:\n",
    " - The most common decay mode by far is the kmu2 decay. This decay is observed in the detector as a beam kaon and a single track left by the muon while the neutrino is invisible in the detector.  \n",
    " - Second we have the k2pi decay, which is also observed as a single track. But the $\\pi^0$, which has a very small lifetime, decays on the stop primarily into two photons (98.8% BR). We should therefore detect in addition two photon clusters on the LKr whose invariant mass is the one of the $\\pi^0$, with the assumption that they come from the same vertex as the charged pion track.\n",
    " - Following at lower BR is the k3pi decay. It is observed as three tracks in the detector, all coming from a common vertex.\n",
    " - The ke3 and kmu3 decays have a much lower BR than k2pi, but with a similar topology: one charged track and two photon clusters with the $\\pi^0$ invariant mass. The only difference between the tracks are their nature, which can be reasonably well disentangled using particle identification (PID) techniques."
   ]
  },
  {
   "cell_type": "markdown",
   "id": "51f3c11b-eba3-42a2-8a3c-06aafe4d31a4",
   "metadata": {},
   "source": [
    "## Particle identification (PID) techniques\n",
    "\n",
    "In NA62, PID is performed primarily with three detectors:\n",
    " - RICH, providing good separation between $e^\\pm/\\pi^\\pm/\\mu^\\pm$ in the momentum range $15~\\text{GeV} < p < 40~\\text{GeV}$ (using measured radius from Cherenkov radiations in Neon)\n",
    " - LKr, providing a excellent electromagnetic calorimetric energy measurement. We can use the E/p measurement to provide a good distinction between $e^+/\\pi^+$, knowing that electrons leave all their energy in the LKr (most of the time). While $\\pi^+$ most of the time leave only a fraction of their energy, and $\\mu^\\pm$ being minimum ionizing particles (MIPs) at these energies leave almost no energy.\n",
    " - MUV3, a scintillator-based detector located behind an iron wall, will see only signal from $\\mu^\\pm$, other particles ($\\pi^\\pm$ mostly at this point) will be entirely stopped in the iron wall.\n",
    "\n",
    "MUV3 and LKr data are present in the dataframe and directly usable. As mentionned above, only the RICH hypothesis is left to understand in order to complete our PID capabilities."
   ]
  },
  {
   "cell_type": "markdown",
   "id": "58bb0ad6-1051-45ad-b3cf-68041c1727ea",
   "metadata": {},
   "source": [
    "We can remember that the data available here contain mostly the five decay channels mentionned above. All other decay channels have such a small BR that we can expect at most a few events and we will therefore not be able to conclude anything from that at this point. Knowing this, we can start by creating **kinematic** selections (i.e. relying only on kinematic variables such as momentum, energy and combinations of those) to isolate a reasonably clean sample of the above decay channels. Once we have those samples, looking at the `event_type` and `rich_hypothesis` variables, we should be able to create a proper mapping for those values."
   ]
  },
  {
   "cell_type": "markdown",
   "id": "694a70e1-bb89-4176-827d-91710493cc65",
   "metadata": {},
   "source": [
    "## Kinematic selections\n",
    "\n",
    "### Single track selection\n",
    "Let's start then by selecting all events with a single track topology, and no isolated energy deposits on the LKr. This would correspond uniquely to the kmu2 channel, all others will have either additional tracks, or photon clusters on the LKr"
   ]
  },
  {
   "cell_type": "code",
   "execution_count": null,
   "id": "d9533db0-aa62-40c0-a7ff-07f6582ff1ee",
   "metadata": {},
   "outputs": [],
   "source": [
    "# Choose events where track1 exists but track2, track3 and cluster1 and cluster2 do not exist\n",
    "single_track = data.loc[data[\"track1_exists\"] & ~data[\"track2_exists\"] & ~data[\"track3_exists\"] & ~data[\"cluster1_exists\"] & ~data[\"cluster2_exists\"]]"
   ]
  },
  {
   "cell_type": "markdown",
   "id": "cedaa0a3-aa5f-4992-a419-f0263e4e7e5f",
   "metadata": {},
   "source": [
    "Let's look at the values of our two variables again for those events:"
   ]
  },
  {
   "cell_type": "code",
   "execution_count": null,
   "id": "ef639aa0-9e4f-413a-8603-01cfad4bbe15",
   "metadata": {},
   "outputs": [],
   "source": [
    "# Print the fraction of events for each possible values of those variables\n",
    "print(single_track[\"event_type\"].value_counts().sort_index()/len(single_track))\n",
    "all_tracks = extract.all_tracks(single_track)\n",
    "print(all_tracks[\"rich_hypothesis\"].value_counts().sort_index()/len(all_tracks))"
   ]
  },
  {
   "cell_type": "markdown",
   "id": "8a79236a-286c-4cb1-95c5-347928b2d40d",
   "metadata": {},
   "source": [
    "We now have a much clearer picture. For single track events, which we know are entirely dominated by the kmu2 decay:\n",
    " - `event_type`: the value is in majority '3' (98%, from only 3% in the complete dataset), with a very small contribution from '5'. We can therefore conclude that `event_type==3 -> kmu2`\n",
    " - `rich_hypothesis`: the value is in majority '2' (79%, from 11% in the complete dataset), with some contamination in all other categories (except '4'). Again we can conclude that `rich_hypothesis==2 -> muon`"
   ]
  },
  {
   "cell_type": "markdown",
   "id": "c1f77ebc-7641-4a91-bfb2-938003987285",
   "metadata": {},
   "source": [
    "### Three-track selection\n",
    "The next event type which can be easily distinguished in our sample is the k3pi, the only one with three tracks. Let's repeat what we've done with kmu2, but with 3-track events."
   ]
  },
  {
   "cell_type": "code",
   "execution_count": null,
   "id": "1fee5ec7-f667-4831-a77a-a961b3217438",
   "metadata": {},
   "outputs": [],
   "source": [
    "# Choose events where track1, track2 and track3 exist, but cluster1 and cluster2 do not exist\n",
    "three_track = data.loc[data[\"track1_exists\"] & data[\"track2_exists\"] & data[\"track3_exists\"] & ~data[\"cluster1_exists\"] & ~data[\"cluster2_exists\"]]"
   ]
  },
  {
   "cell_type": "markdown",
   "id": "b2d6a8b8-0f3c-4c67-bf90-507d43c2efd3",
   "metadata": {},
   "source": [
    "And let's look at the values of our two variables for these events:"
   ]
  },
  {
   "cell_type": "code",
   "execution_count": null,
   "id": "4cbb9457-b932-41d0-85c3-d99de0356be8",
   "metadata": {},
   "outputs": [],
   "source": [
    "# Print the fraction of events for each possible values of those variables\n",
    "print(three_track[\"event_type\"].value_counts().sort_index()/len(three_track))\n",
    "all_tracks = extract.all_tracks(three_track)\n",
    "print(all_tracks[\"rich_hypothesis\"].value_counts().sort_index()/len(all_tracks))"
   ]
  },
  {
   "cell_type": "markdown",
   "id": "140fb825-268e-4a84-96c0-e7d309a9430f",
   "metadata": {},
   "source": [
    "This time, being entirely dominated by k3pi decays:\n",
    " - `event_type`: the value is dominated by '1' (almost 100%, as in the complete dataset but we have eliminated the other categories), with a very small contribution from '5'. We can therefore conclude that `event_type==1 -> k3pi`\n",
    " - `rich_hypothesis`: In this case the picture is very similar to the complete dataset. We are still dominated by the category '3' but with a sizable contribution from category '2' (which we now know are muons). We should try to understand later why we have contributions in other categories, but for now we can conclude that `rich_hypothesis==3 -> charged pion`"
   ]
  },
  {
   "cell_type": "markdown",
   "id": "7277837d-34b2-470b-9a7c-1c3fd8838149",
   "metadata": {},
   "source": [
    "### Single-track with two clusters selection\n",
    "To conclude this first study, we will select single-track events accompanied by two clusters of energy on the LKr. We know these include k2pi, kmu3 and ke3. As we want to use here a kinematic selection only, we will not be using any PID technique to distinguish between the three decays. Instead we will be relying on combination of the momenta and energies to reconstruct higher level variables (total momentum, missing mass, invariant mass)."
   ]
  },
  {
   "cell_type": "code",
   "execution_count": null,
   "id": "a2bb7caf-07d7-4888-b394-15ce2eb1f04b",
   "metadata": {},
   "outputs": [],
   "source": [
    "# Choose events where track1, cluster1 and cluster2 exist, but track2 and track3 do not exist\n",
    "single_track_w_clusters = data.loc[data[\"track1_exists\"] & ~data[\"track2_exists\"] & ~data[\"track3_exists\"] & data[\"cluster1_exists\"] & data[\"cluster2_exists\"]]"
   ]
  },
  {
   "cell_type": "markdown",
   "id": "e35d815b-b994-42ba-b160-e708487ead8b",
   "metadata": {},
   "source": [
    "Let's first have a look at the total reconstructed momentum (including the track momentum and the momentum of the two alleged photons that left the clusters, assuming they come from the same vertex)"
   ]
  },
  {
   "cell_type": "code",
   "execution_count": null,
   "id": "ca36e097-cf69-43b5-a91f-c190fb2ebdc6",
   "metadata": {},
   "outputs": [],
   "source": [
    "# Prepare two figures\n",
    "fig, ax = plt.subplots(1,2, figsize=(14,5))\n",
    "\n",
    "# Plot the total momentum in log scale\n",
    "total_momentum = hlf.total_momentum(single_track_w_clusters)\n",
    "total_momentum.hist(bins=200, range=(0, 100000), ax=ax[0])\n",
    "ax[0].set_title(\"Total momentum\")\n",
    "ax[0].set_yscale(\"log\")\n",
    "ax[0].set_xlabel(\"$p_{tot}$ [MeV/$c$]\")\n",
    "\n",
    "# And perform a gaussian fit of the total momentum\n",
    "fit_result = stats.fit_gaussian(total_momentum, bins=100, display_range=(65000, 85000), fit_range=(70000, 80000), ax=ax[1])\n",
    "ax[1].set_title(\"Total momentum (zoom)\")\n",
    "ax[1].set_xlabel(\"$p_{tot}$ [MeV/$c$]\")\n",
    "print(fit_result.fit_report())"
   ]
  },
  {
   "cell_type": "markdown",
   "id": "ad0337ef-b585-43e5-99cc-a0ca3a4d9409",
   "metadata": {},
   "source": [
    "As can be seen above, the total momentum spreads from about 20 GeV up to 100 GeV. However we can observe a big peak at 75 GeV, which is the momentum of the initial kaon from the beam. Of all the single-track and two cluster decays that we are looking at, we can notice that only the k2pi is a closed decay (i.e. all decay products are observed, with no neutrino escaping the detector). In this case we expect that the total reconstructed momentum is indeed the same as the initial kaon. In the other cases, a part of the momentum is taken away by the neutrino. We can conclude that the big peak we see is due mostly to the contribution from the k2pi decay, with the remaining non-peaking contribution due to the kmu3 and ke3 decays. We can use this to try to separate k3pi from the two other decays.\n",
    "\n",
    "Please note also that we performed a gaussian fit of the peaking contribution at 75 GeV, which resulted in a sigma of about 1.1 GeV. Below we are therefore separate our 1-track-2-clusters events into two categories:\n",
    " - closed: total momentum within 3 sigmas of 75 GeV\n",
    " - opened: total momentum outside 5 sigmas of 75 GeV (to make sure we reject all the k2pi in the peak)"
   ]
  },
  {
   "cell_type": "code",
   "execution_count": null,
   "id": "cfa8d339-100e-45ef-b420-c7dba081f1b2",
   "metadata": {},
   "outputs": [],
   "source": [
    "p_center = 75000\n",
    "p_sigma = 1100\n",
    "in_peak = (total_momentum>(p_center-3*p_sigma)) & (total_momentum<(p_center+3*p_sigma))\n",
    "closed = single_track_w_clusters.loc[in_peak]\n",
    "track1 = extract.track(closed, 1)\n",
    "g2 = extract.photon_momentum(closed, 1)\n",
    "g1 = extract.photon_momentum(closed, 2)\n",
    "hlf.set_mass(track1, constants.pion_charged_mass)\n",
    "hlf.set_mass(g1, constants.photon_mass)\n",
    "hlf.set_mass(g2, constants.photon_mass)\n",
    "inv_mass = hlf.invariant_mass([track1, g1, g2])\n",
    "inv_mass.hist(bins=100, range=(400, 600))\n",
    "plt.title(\"Invariant mass for closed topology\")\n",
    "plt.xlabel(\"$m_{inv}$ [MeV/$c^2$]\")\n",
    "print(f\"Average invariant mass: {inv_mass.mean():.2f} MeV/c^2\")"
   ]
  },
  {
   "cell_type": "markdown",
   "id": "7e2a0952-0d69-4527-aab4-9b3daaa4814b",
   "metadata": {},
   "source": [
    "We have here a very clear sign of a k2pi decay: total reconstructed momentum similar to the beam momentum, and a peak in the invariant mass (assuming the track being a charged pion) at ~493 GeV which corresponds to the mass of the charged kaon.\n",
    "\n",
    "Again, let's look at our two variables for this sample"
   ]
  },
  {
   "cell_type": "code",
   "execution_count": null,
   "id": "97af0415-e53e-4848-b16a-64b9e0b322c3",
   "metadata": {},
   "outputs": [],
   "source": [
    "# Print the fraction of events for each possible values of those variables\n",
    "print(closed[\"event_type\"].value_counts().sort_index()/len(closed))\n",
    "all_tracks = extract.all_tracks(closed)\n",
    "print(all_tracks[\"rich_hypothesis\"].value_counts().sort_index()/len(all_tracks))"
   ]
  },
  {
   "cell_type": "markdown",
   "id": "9da8335b-aad3-4119-b0d0-fa5a6c7f84b8",
   "metadata": {},
   "source": [
    "We can draw the following conclusions:\n",
    " - `event_type`: the value is dominated by '4' (almost 100%, from only 13% in the complete dataset), with a very small contribution from '5'. We can therefore conclude that `event_type==3 -> k2pi`\n",
    " - `rich_hypothesis`: the picture is even clearer than with the k3pi. We are very much dominated by the category '3' with small contribution from category '2' (which we now know are muons) and even smaller from the other categories. We strengthen our conclusion that `rich_hypothesis==3 -> charged pion`"
   ]
  },
   ]
  },
 ],
 "metadata": {
  "kernelspec": {
   "display_name": "Python 3 (ipykernel)",
   "language": "python",
   "name": "python3"
  },
  "language_info": {
   "codemirror_mode": {
    "name": "ipython",
    "version": 3
   },
   "file_extension": ".py",
   "mimetype": "text/x-python",
   "name": "python",
   "nbconvert_exporter": "python",
   "pygments_lexer": "ipython3",
   "version": "3.11.4"
  }
 },
 "nbformat": 4,
 "nbformat_minor": 5
}
