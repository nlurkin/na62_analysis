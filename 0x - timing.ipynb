{
 "cells": [
  {
   "cell_type": "code",
   "execution_count": null,
   "id": "f796c064-799b-4c34-863a-5b73292074a7",
   "metadata": {},
   "outputs": [],
  {
   "cell_type": "markdown",
   "id": "51a65293-62d9-4a0a-8dda-1f030c2626ef",
   "metadata": {},
   "source": [
    "# Timing\n",
    "\n",
    "Timing in an experiment like NA62 is very different from other experiment such as LHC. For LHC experiments, the timing of the events is very well knows: one event comes every 25 ns. In NA62 we have a continuous beam of particle coming over periods of ~3 s (that we call burst or spill). During the burst we have about 750 MHz of particles entering the detector. Out of these, 6% are Kaons and only a fraction of them will decay in the fiducial decay volume. This means that every burst will see millions of Kaon decays and timing is therefore extremely important to be able to separate them. Different detectors will see different particle rates, but it is important to be able to consistently associate signals in time across all detectors, and therefore they should all have at least a resolution of the same order of magnitude. In the case of NA62, all detectors have a time resolution of better than ~1 ns.\n",
    "\n",
    "The timing intervenes at multiple levels in NA62. The first level is the trigger. A clock signal is is distributed through the whole experiment with a period of approximately 25 ns. This period defines what we call a \"frame\" and it is used as a reference for the generated triggers. Once a trigger is generated and distributed to all detectors, they will send all the signals they acquired in the reference frame (and a couple of frames on either side to ensure we have all we need before throwing it away). After further processing the data are written on disk. This trigger period, or frame, therefore defines the time window of each event. Within this time window, each detector has a faster clock defining a finer time (generally of the order of few 100 of ps). This fine time is the one that we will really use to associate in time signals in different detectors.\n",
    "\n",
    "In this notebook we will investigate timing consideration. We have a few time variables in our data format and will we check how they correlate and how we can use it to remove spurious associations and reduce random veto (rejecting an event based on detector activity unrelated to the event of interest)."
   ]
  },
  {
   "cell_type": "code",
   "execution_count": null,
   "id": "f73e1f0d-c948-4b1d-b503-d9eaa8a54637",
   "metadata": {},
   "outputs": [],
   "source": [
    "# As usual let's import all we need\n",
    "import uproot\n",
    "import pandas as pd\n",
    "import numpy as np\n",
    "import matplotlib.pyplot as plt\n",
    "import matplotlib as mpl\n",
    "from na62 import prepare, hlf, extract, constants, stats\n",
    "from lmfit import Model"
   ]
  },
  {
   "cell_type": "markdown",
   "id": "b5dbe2f7-dbce-4ebb-a6cb-d8046c7efc09",
   "metadata": {},
   "source": [
    "**Exercise**: Knowing that Kaons in NA62 have energy of 75 GeV, what fraction of them will decay in the 80 m decay volume? How many decays is that over the 3 s period of a burst?"
   ]
  },
  {
   "cell_type": "code",
   "execution_count": null,
   "id": "f6e69d54-77ee-4150-9c73-36e07c9265ff",
   "metadata": {},
   "outputs": [],
   "source": [
    "# Compute the fraction of Kaon decaying in the decay volume\n",
    "p = 75000 # MeV\n",
    "E = np.sqrt(p**2+constants.kaon_charged_mass**2) \n",
    "tau = 1.2380e-8 # Kaon lifetime\n",
    "gamma = E/constants.kaon_charged_mass\n",
    "length = 80\n",
    "beam_rate = 750 # MHz\n",
    "kaon_fraction = 0.06\n",
    "burst_length = 3 # s\n",
    "\n",
    "meanpath = constants.c*gamma*tau\n",
    "# Which fraction will decay in the decay volume = decay probability in the given length\n",
    "prob = 1 - np.exp(-length/meanpath)\n",
    "decay_rate = beam_rate*1e6 * kaon_fraction * prob \n",
    "ndecays = decay_rate * burst_length\n",
    "\n",
    "print(f\"Kaon mean free path: {meanpath:.0f} m\")\n",
    "print(f\"Probability of kaon decay within {length} m distance: {prob:.2%}\")\n",
    "print(f\"Number of decays in the burst: {ndecays:.2}\")"
   ]
  },
  {
   "cell_type": "markdown",
   "id": "54f79bcd-fef8-4b01-aa5d-285e48979465",
   "metadata": {},
   "source": [
    "**Exercise**: What is the maximum time resolution should we achieve to be able to distinguish individual events? Check the ideal case where the detector is sensitive to Kaon decays only. But some of the detectors are actually sensitive also to the full beam, which is the maximum time resolution in this case?"
   ]
  },
  {
   "cell_type": "code",
   "execution_count": null,
   "id": "31063da1-e0a0-4b4c-a5b6-ebc5c76c0d5e",
   "metadata": {},
   "outputs": [],
   "source": [
    "# The required time resolution to distinguish between two events is simply the time between two events\n",
    "time_between_kaons = 1/decay_rate * 1e9 # In ns\n",
    "time_between_beam = 1/(beam_rate * 1e6) * 1e9 # Beam rate in Hertz, then transform into ns\n",
    "\n",
    "print(f\"Average time between consecutive kaon decays: {time_between_kaons:.2f} ns\")\n",
    "print(f\"Average time between consecutive beam particles: {time_between_beam:.2f} ns\")"
   ]
  },
  {
   "cell_type": "code",
   "execution_count": null,
   "id": "91bec9e9-6489-4208-8e74-70abcb927e7c",
   "metadata": {},
   "outputs": [],
   "source": [
    "# Let's read the data as usual\n",
    "data, _ = prepare.import_root_files([\"data/run12450.root\"])"
   ]
  },
  {
   "cell_type": "code",
   "execution_count": null,
   "id": "eb4e95fe-c2ee-442b-b0c1-3d44e62f581d",
   "metadata": {},
   "outputs": [],
   "source": []
  }
 ],
 "metadata": {
  "kernelspec": {
   "display_name": "Python 3 (ipykernel)",
   "language": "python",
   "name": "python3"
  },
  "language_info": {
   "codemirror_mode": {
    "name": "ipython",
    "version": 3
   },
   "file_extension": ".py",
   "mimetype": "text/x-python",
   "name": "python",
   "nbconvert_exporter": "python",
   "pygments_lexer": "ipython3",
   "version": "3.11.4"
  }
 },
 "nbformat": 4,
 "nbformat_minor": 5
}
